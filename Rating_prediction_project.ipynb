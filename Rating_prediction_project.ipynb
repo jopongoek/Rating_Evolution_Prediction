{
 "cells": [
  {
   "cell_type": "code",
   "execution_count": 1,
   "metadata": {},
   "outputs": [],
   "source": [
    "import numpy as np\n",
    "import pandas as pd\n",
    "import sklearn as sk\n",
    "from datetime import datetime"
   ]
  },
  {
   "cell_type": "code",
   "execution_count": 8,
   "metadata": {},
   "outputs": [],
   "source": [
    "def plot_confusion_matrix():\n",
    "    \"\"\"plot confusion matrix\n",
    "    \n",
    "    \"\"\"\n",
    "def get_quality_scores():\n",
    "    \"\"\"save scoring of the model into a dataframe.\n",
    "    \n",
    "    \"\"\"\n",
    "def plot_estimator():\n",
    "    \"\"\"plot the relation between estimation and time.\n",
    "    \n",
    "    more details...\n",
    "    \n",
    "    Args:\n",
    "      estimators (float): an array of estimators\n",
    "      time (int): an array of time\n",
    "      \n",
    "    Returns:\n",
    "        (int): return 0\n",
    "    \"\"\""
   ]
  },
  {
   "cell_type": "markdown",
   "metadata": {},
   "source": [
    "#### Plan\n",
    "\n",
    "- Project scoping\n",
    "- Data collection\n",
    "- Data cleaning\n",
    "- Feature engineering\n",
    "- Model training\n",
    "- Results analysis\n",
    "- Conclusion"
   ]
  },
  {
   "cell_type": "markdown",
   "metadata": {},
   "source": [
    "# Corporate's rating prediction with ML\n",
    "\n",
    "## I- Introduction\n",
    "\n",
    "\n",
    "\n",
    "### A- Contexte\n",
    "\n",
    "BNP Paribas Cardif has its own investment and asset management department (IAMD), which manages the premium given by clients for insurance products such as assurance vie or protection. It represents more thant one hundred billion to invest on the markets. These investments must comply to investment guidelines, and are managed to ensure client's contracts are respected.\n",
    "\n",
    "### B- Objectif\n",
    "\n",
    "Financial analysis is done at numerous places in financial industry. In this thesis we will focus on financial analysis done on the asset management side, ie the desk which analyses companies and buys equities or bonds in order to achieve fund.\n",
    "\n",
    "The objective of this thesis is to forecast the credit rating of a company with the help to its financial statements.\n",
    "\n",
    "### C- Data Presentation\n",
    "\n",
    "Data consists of the financial data, on a range of 20 years, of nearly 2000 corporates; both US and EU companies.\n",
    "Each line is equivalent to a corporate financial data. Example : Sanofi\n",
    "Each column is equivalent to a feature. Example : EBITDA\n",
    "\n"
   ]
  },
  {
   "cell_type": "markdown",
   "metadata": {},
   "source": [
    "## II- Data Management"
   ]
  },
  {
   "cell_type": "markdown",
   "metadata": {},
   "source": [
    "### A- Data Importing\n",
    "\n",
    "Bloomberg has restriction on the number of data for the extraction of data. That's with need a function to dodge the data limitation."
   ]
  },
  {
   "cell_type": "code",
   "execution_count": null,
   "metadata": {},
   "outputs": [],
   "source": [
    "def import_data():\n",
    "    \"\"\"import data \n",
    "    \n",
    "    \"\"\"\n",
    "    return 0\n",
    "df_raw=import_data"
   ]
  },
  {
   "cell_type": "markdown",
   "metadata": {},
   "source": [
    "### B- Data Cleaning\n",
    "\n",
    "The data is imported from Bloomberg. Thus, it may come with a specific format. The main goal of this part is to clean the extraction from bloomberg."
   ]
  },
  {
   "cell_type": "code",
   "execution_count": 6,
   "metadata": {},
   "outputs": [],
   "source": [
    "def clean_data():\n",
    "    \"\"\" cleans the data.\n",
    "    \n",
    "    more details...\n",
    "    \n",
    "    Arguments:\n",
    "    ----------\n",
    "    minimum (float): A port value greater or equal to 1024.\n",
    "\n",
    "    Returns:\n",
    "    --------\n",
    "    (float): The new minimum port.\n",
    "\n",
    "    Raises:\n",
    "    -------\n",
    "    ConnectionError: If no available port is found.\n",
    "      \n",
    "    \"\"\""
   ]
  },
  {
   "cell_type": "markdown",
   "metadata": {},
   "source": [
    "### C - Time Handling\n",
    "The data source has an indexing in dates. We need for machine learning algorithms data without time indices."
   ]
  },
  {
   "cell_type": "code",
   "execution_count": null,
   "metadata": {},
   "outputs": [],
   "source": [
    "def data_handle_time(raw_df, observation_date, decal):\n",
    "    \"\"\" Returns a dataframe with features at observation_date and the years before (up to decal)\n",
    "    \n",
    "    Arguments:\n",
    "    ----------\n",
    "    raw_df (dataframe) : Raw data\n",
    "    observation_date (datetime): observation date\n",
    "    decal (int): window of observation\n",
    "    \"\"\"\n",
    "    return 0\n",
    "    "
   ]
  },
  {
   "cell_type": "code",
   "execution_count": 6,
   "metadata": {},
   "outputs": [
    {
     "ename": "SyntaxError",
     "evalue": "invalid syntax (<ipython-input-6-7ec90b7f2480>, line 2)",
     "output_type": "error",
     "traceback": [
      "\u001b[1;36m  File \u001b[1;32m\"<ipython-input-6-7ec90b7f2480>\"\u001b[1;36m, line \u001b[1;32m2\u001b[0m\n\u001b[1;33m    df_data=\u001b[0m\n\u001b[1;37m            ^\u001b[0m\n\u001b[1;31mSyntaxError\u001b[0m\u001b[1;31m:\u001b[0m invalid syntax\n"
     ]
    }
   ],
   "source": [
    "date1=datetime(2018,12,31)\n",
    "df_data=data_handle_time(raw_df, date1, 4)"
   ]
  },
  {
   "cell_type": "markdown",
   "metadata": {},
   "source": [
    "## III - Data Visualization"
   ]
  },
  {
   "cell_type": "markdown",
   "metadata": {},
   "source": [
    "## III- Feature Engineering\n",
    "\n",
    "### Adding expertise features = Ratio"
   ]
  },
  {
   "cell_type": "code",
   "execution_count": null,
   "metadata": {},
   "outputs": [],
   "source": [
    "def encode_rating():\n",
    "    \"\"\"encode rating \n",
    "    \"\"\"\n",
    "    \n",
    "def decode_rating():\n",
    "    return 0\n",
    "    "
   ]
  },
  {
   "cell_type": "markdown",
   "metadata": {},
   "source": [
    "## IV- Machine Learning "
   ]
  },
  {
   "cell_type": "markdown",
   "metadata": {},
   "source": [
    "### Preprocessing"
   ]
  },
  {
   "cell_type": "code",
   "execution_count": null,
   "metadata": {},
   "outputs": [],
   "source": [
    "def window():\n",
    "    #Récupère les données correspondant à la fenêtre\n",
    "    \n",
    "def data_separation():\n",
    "    #Separation des données (test & training)\n"
   ]
  },
  {
   "cell_type": "markdown",
   "metadata": {},
   "source": [
    "## V- Results Analysis"
   ]
  },
  {
   "cell_type": "code",
   "execution_count": null,
   "metadata": {},
   "outputs": [],
   "source": [
    "\n",
    "def F1(confusion_matix):\n",
    "    return F1 \n",
    "def Accuracy(confusion_matrix):\n",
    "    return Accuracy\n",
    "def Recall(confusion_matrix):\n",
    "    return Recall\n",
    "def Prediction(confusion_matrix):\n",
    "    return Prediction\n",
    "\n"
   ]
  }
 ],
 "metadata": {
  "kernelspec": {
   "display_name": "Python 3",
   "language": "python",
   "name": "python3"
  },
  "language_info": {
   "codemirror_mode": {
    "name": "ipython",
    "version": 3
   },
   "file_extension": ".py",
   "mimetype": "text/x-python",
   "name": "python",
   "nbconvert_exporter": "python",
   "pygments_lexer": "ipython3",
   "version": "3.7.6"
  }
 },
 "nbformat": 4,
 "nbformat_minor": 2
}
