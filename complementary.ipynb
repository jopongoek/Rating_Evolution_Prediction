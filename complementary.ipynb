{
 "cells": [
  {
   "cell_type": "markdown",
   "metadata": {},
   "source": [
    "# Plan et Définition des fonctions"
   ]
  },
  {
   "cell_type": "code",
   "execution_count": 1,
   "metadata": {},
   "outputs": [],
   "source": [
    "from IPython.display import display, HTML\n",
    "import numpy as np\n",
    "import pandas as pd\n",
    "from datetime import datetime, timedelta\n",
    "from scipy import stats\n",
    "import seaborn as sns\n",
    "import matplotlib.pyplot as plt\n",
    "from matplotlib.backends.backend_pdf import PdfPages\n",
    "import itertools\n",
    "\n",
    "plt.style.use('ggplot')\n",
    "\n",
    "from imblearn.over_sampling import RandomOverSampler\n",
    "from imblearn.combine import SMOTETomek\n",
    "from imblearn.over_sampling import SMOTE\n",
    "from imblearn.combine import SMOTEENN\n",
    "\n",
    "from sklearn.metrics import confusion_matrix\n",
    "from sklearn.impute import SimpleImputer, MissingIndicator\n",
    "from sklearn.preprocessing import StandardScaler, OneHotEncoder, OrdinalEncoder, LabelEncoder\n",
    "from sklearn.compose import ColumnTransformer\n",
    "from sklearn.pipeline import Pipeline\n",
    "#from imblearn.pipeline import Pipeline\n",
    "from sklearn.decomposition import PCA\n",
    "from sklearn.feature_selection import RFE,RFECV\n",
    "from sklearn.model_selection import StratifiedKFold\n",
    "from sklearn.metrics import cohen_kappa_score, make_scorer, f1_score\n",
    "\n",
    "from sklearn.model_selection import StratifiedShuffleSplit,train_test_split, cross_val_predict, GridSearchCV, RandomizedSearchCV, cross_val_score, learning_curve, ShuffleSplit, validation_curve\n",
    "from sklearn.ensemble import RandomForestRegressor, RandomForestClassifier\n",
    "from sklearn.ensemble.gradient_boosting import GradientBoostingRegressor,GradientBoostingClassifier\n",
    "\n",
    "from sklearn.svm import SVR, SVC\n",
    "from sklearn.linear_model import LinearRegression, Ridge, Lasso, LassoCV, LassoLarsCV, ElasticNet, ElasticNetCV, LogisticRegressionCV, LogisticRegression, SGDClassifier\n",
    "import sklearn.metrics as sk_metrics\n",
    "\n",
    "import mord"
   ]
  },
  {
   "cell_type": "code",
   "execution_count": 2,
   "metadata": {},
   "outputs": [],
   "source": [
    "def intersection(lst1, lst2): \n",
    "    return list(set(lst1) & set(lst2))"
   ]
  },
  {
   "cell_type": "code",
   "execution_count": 1,
   "metadata": {},
   "outputs": [],
   "source": [
    "def plot_confusion_matrix(estimator, X, y,title='',class_names=None, figsize = (10,7), fontsize=14):\n",
    "    pred_class=estimator.predict(X)\n",
    "    confusion_mat= confusion_matrix(y, pred_class)\n",
    "    if class_names is None:\n",
    "        class_names=range(confusion_mat.shape[0])\n",
    "    df_cm = pd.DataFrame(confusion_mat, index=class_names, columns=class_names)\n",
    "    fig = plt.figure(figsize=figsize)\n",
    "    plt.title(title)\n",
    "    try:\n",
    "        heatmap = sns.heatmap(df_cm, annot=True, fmt=\"d\")\n",
    "    except ValueError:\n",
    "        raise ValueError(\"Confusion matrix values must be integers.\")\n",
    "    heatmap.yaxis.set_ticklabels(heatmap.yaxis.get_ticklabels(), rotation=0, ha='right', fontsize=fontsize)\n",
    "    heatmap.xaxis.set_ticklabels(heatmap.xaxis.get_ticklabels(), rotation=45, ha='right', fontsize=fontsize)\n",
    "    plt.ylabel('True label')\n",
    "    plt.xlabel('Predicted label')\n",
    "    return fig"
   ]
  },
  {
   "cell_type": "code",
   "execution_count": 4,
   "metadata": {},
   "outputs": [],
   "source": [
    "def get_quality_scores(model,model_name, X_train, X_test, y_train, y_test):\n",
    "    \"\"\" save scoring of the model into a dataframe\n",
    "    \"\"\"\n",
    "    res         = pd.DataFrame(np.zeros((8,1)))\n",
    "    res.columns = [model_name]\n",
    "    res.index   = ['Train Accuracy', 'Train Average Recall', 'Train Average Precision', 'Train Average F1 Score', 'Test Accuracy','Test Average Recall', 'Test Average Precision', 'Test Average F1 Score']\n",
    "    #train\n",
    "    res.iloc[0,0] = '{:.2%}'.format(sk_metrics.accuracy_score(y_train, model.predict(X_train)))\n",
    "    res.iloc[1,0] = '{:.2%}'.format(sk_metrics.balanced_accuracy_score(y_train, model.predict(X_train)))\n",
    "    res.iloc[2,0] = '{:.2%}'.format(sk_metrics.precision_score(y_train, model.predict(X_train), average='macro'))\n",
    "    res.iloc[3,0] = '{:.2%}'.format(sk_metrics.f1_score(y_train, model.predict(X_train), average='macro'))\n",
    "    #test                                \n",
    "    res.iloc[4,0] = '{:.2%}'.format(sk_metrics.accuracy_score(y_test, model.predict(X_test)))\n",
    "    res.iloc[5,0] = '{:.2%}'.format(sk_metrics.balanced_accuracy_score(y_test, model.predict(X_test)))\n",
    "    res.iloc[6,0] = '{:.2%}'.format(sk_metrics.precision_score(y_test, model.predict(X_test), average='macro'))\n",
    "    res.iloc[7,0] = '{:.2%}'.format(sk_metrics.f1_score(y_test, model.predict(X_test), average='macro'))\n",
    "    return(res)"
   ]
  },
  {
   "cell_type": "code",
   "execution_count": 5,
   "metadata": {},
   "outputs": [],
   "source": [
    "def plot_learning_curve(estimator, title, X, y, ylim=None, cv=None,\n",
    "                        n_jobs=None, train_sizes=np.linspace(.2, 1.0, 5), scorer=None):\n",
    "    fig, ax = plt.subplots(1, 1, figsize=(20, 10))\n",
    "    ax.set_title(title)\n",
    "    if ylim is not None:\n",
    "        plt.ylim(*ylim)\n",
    "    ax.set_xlabel(\"Training examples\")\n",
    "    ax.set_ylabel(\"Score\")\n",
    "    skf = StratifiedKFold(n_splits=5)\n",
    "    train_sizes, train_scores, test_scores = learning_curve(\n",
    "        estimator, X, y, cv=skf, n_jobs=n_jobs, train_sizes=train_sizes, scoring=scorer)\n",
    "    train_scores_mean = np.mean(train_scores, axis=1)\n",
    "    train_scores_std = np.std(train_scores, axis=1)\n",
    "    test_scores_mean = np.mean(test_scores, axis=1)\n",
    "    test_scores_std = np.std(test_scores, axis=1)\n",
    "    ax.fill_between(train_sizes, train_scores_mean - train_scores_std,\n",
    "                     train_scores_mean + train_scores_std, alpha=0.1,\n",
    "                     color=\"r\")\n",
    "    ax.fill_between(train_sizes, test_scores_mean - test_scores_std,\n",
    "                     test_scores_mean + test_scores_std, alpha=0.1, color=\"g\")\n",
    "    ax.plot(train_sizes, train_scores_mean, 'o-', color=\"r\",\n",
    "             label=\"Training score\")\n",
    "    ax.plot(train_sizes, test_scores_mean, 'o-', color=\"g\",\n",
    "             label=\"Cross-validation score\")\n",
    "    ax.legend(loc=\"best\")\n",
    "    return fig,ax"
   ]
  },
  {
   "cell_type": "code",
   "execution_count": 6,
   "metadata": {},
   "outputs": [],
   "source": [
    "def plot_validation_curve(estimator, X, y, param_name, params, title='', scorer=None):\n",
    "    skf = StratifiedKFold(n_splits=5)\n",
    "    train_scores, valid_scores = validation_curve(estimator, X, y, param_name, params, cv=skf,scoring=scorer)\n",
    "    fig, ax = plt.subplots(1, 1, figsize=(20, 10))\n",
    "    ax.set_title(title)\n",
    "    ax.plot(params, train_scores.mean(axis=1), 'o-', color='r', label='Training Scores')\n",
    "    ax.fill_between(params, train_scores.mean(axis=1)-train_scores.std(axis=1), train_scores.mean(axis=1)+train_scores.std(axis=1),color='r', alpha=0.1)\n",
    "    ax.plot(params, valid_scores.mean(axis=1), 'o-', color='g', label='Validation scores')\n",
    "    ax.fill_between(params, valid_scores.mean(axis=1)-valid_scores.std(axis=1), valid_scores.mean(axis=1)+valid_scores.std(axis=1), color='g', alpha=0.1)\n",
    "    ax.legend(loc='best')\n",
    "    ax.set_xscale('log')\n",
    "    return fig, ax"
   ]
  },
  {
   "cell_type": "code",
   "execution_count": 7,
   "metadata": {},
   "outputs": [],
   "source": [
    "def calibrate_hyperparameters_RandomizedSearch(estimator, grid, X_train, y_train):\n",
    "    rf_random = RandomizedSearchCV(estimator = estimator, param_distributions = grid, n_iter = 300, cv = 3, verbose=2, random_state=42, n_jobs = -1)\n",
    "    rf_random.fit(X_train, y_train)\n",
    "    return(rf_random.best_estimator_, rf_random.best_params_)"
   ]
  },
  {
   "cell_type": "code",
   "execution_count": 8,
   "metadata": {},
   "outputs": [],
   "source": [
    "ordered_rating=pd.read_csv('data/rating_encode.csv', index_col=1).rating"
   ]
  },
  {
   "cell_type": "code",
   "execution_count": 9,
   "metadata": {},
   "outputs": [],
   "source": [
    "def convert_column(s):\n",
    "    try:\n",
    "        return(float(s))\n",
    "    except ValueError:\n",
    "        if s.endswith('T'):\n",
    "            return(float(s[:-1])*1e12)\n",
    "        elif s.endswith('B'):\n",
    "            return(float(s[:-1])*1e9)\n",
    "        elif s.endswith('M'):\n",
    "            return(float(s[:-1])*1e6)\n",
    "        elif s.endswith('k'):\n",
    "            return(float(s[:-1])*1e3)\n",
    "        elif s.endswith('%'):\n",
    "            try:\n",
    "                return(float(s[:-1])*1e-2)\n",
    "            except ValueError:\n",
    "                return(np.nan)\n",
    "        elif s=='--':\n",
    "            return(np.nan)\n",
    "        else:\n",
    "            return(s)\n",
    "convert_column=np.vectorize(convert_column)"
   ]
  },
  {
   "cell_type": "code",
   "execution_count": 10,
   "metadata": {},
   "outputs": [
    {
     "name": "stderr",
     "output_type": "stream",
     "text": [
      "D:\\Anaconda\\lib\\site-packages\\ipykernel_launcher.py:33: SettingWithCopyWarning: \n",
      "A value is trying to be set on a copy of a slice from a DataFrame\n",
      "\n",
      "See the caveats in the documentation: http://pandas.pydata.org/pandas-docs/stable/indexing.html#indexing-view-versus-copy\n"
     ]
    }
   ],
   "source": [
    "def import_data():\n",
    "    correspondance = pd.read_csv('data/codes.csv')\n",
    "    df1 = pd.read_csv('data/extract1.csv', index_col=0)\n",
    "    df1.dropna(subset=['Short Name'],inplace=True)\n",
    "    df1.columns=correspondance.code.iloc[1:41]\n",
    "\n",
    "    df2 = pd.read_csv('data/extract2.csv',index_col=0)\n",
    "    df2.dropna(subset=['Short Name'], inplace=True)\n",
    "    df2 = df2.iloc[:,1:]\n",
    "    df2.columns = correspondance.code.iloc[41:78]\n",
    "\n",
    "    df3 = pd.read_csv('data/extract3.csv', index_col=0)\n",
    "    df3.dropna(subset=['Short Name'],inplace=True)\n",
    "    df3 = df3.iloc[:,1:]\n",
    "    df3.columns = correspondance.code.iloc[78:88]\n",
    "\n",
    "    df4 = pd.read_csv('data/extract4.csv',index_col=0)\n",
    "    df4.dropna(subset=['Short Name'],inplace=True)\n",
    "    df4 = df4.iloc[:,1:]\n",
    "    df4.columns=correspondance.code.iloc[88:]\n",
    "\n",
    "    df=df1\n",
    "    df=df.combine_first(df2)\n",
    "    df=df.combine_first(df3)\n",
    "    df=df.combine_first(df4)\n",
    "\n",
    "    mask=(correspondance.type=='Numeric')\n",
    "    numeric_columns=correspondance[mask].code\n",
    "    #convert format\n",
    "    df[numeric_columns]=df[numeric_columns].apply(convert_column)\n",
    "\n",
    "    #format Rating\n",
    "    df.RATING[df.RATING=='NR']=np.nan\n",
    "    df=df[df.RATING.notna()] #remove non rated companies as they do not help in learning\n",
    "    return(df)\n",
    "\n",
    "df=import_data()"
   ]
  },
  {
   "cell_type": "markdown",
   "metadata": {},
   "source": [
    "# I - Importing of DATA"
   ]
  },
  {
   "cell_type": "code",
   "execution_count": 11,
   "metadata": {},
   "outputs": [
    {
     "data": {
      "text/plain": [
       "rating\n",
       "AAA      17\n",
       "AA+      16\n",
       "AA       15\n",
       "AA-      14\n",
       "A+       13\n",
       "A        12\n",
       "A-       11\n",
       "BBB+     10\n",
       "BBB       9\n",
       "BBB-      8\n",
       "BB+       7\n",
       "BB        6\n",
       "BB-       5\n",
       "B+        4\n",
       "B         3\n",
       "B-        2\n",
       "CCC/C     1\n",
       "Name: code, dtype: int64"
      ]
     },
     "execution_count": 11,
     "metadata": {},
     "output_type": "execute_result"
    }
   ],
   "source": [
    "table_rating = pd.read_csv('data/rating_encode.csv', index_col=0)\n",
    "\n",
    "def f_encode_rating(rating):\n",
    "    if pd.isnull(rating):\n",
    "        return(np.nan)\n",
    "    else:\n",
    "        return(table_rating.loc[rating].code)\n",
    "\n",
    "def f_decode_rating(number):\n",
    "    number= min(max(number,0), 17)\n",
    "    if pd.isnull(number):\n",
    "        return(np.nan)\n",
    "    else:\n",
    "        return(table_rating[table_rating.code==int(np.round(number))].index[0])\n",
    "\n",
    "df['ENCODED_RATING']=df.RATING.apply(f_encode_rating)\n",
    "\n",
    "table_rating.code"
   ]
  },
  {
   "cell_type": "code",
   "execution_count": 12,
   "metadata": {},
   "outputs": [
    {
     "data": {
      "text/plain": [
       "['CCC/C',\n",
       " 'B-',\n",
       " 'B',\n",
       " 'B+',\n",
       " 'BB-',\n",
       " 'BB',\n",
       " 'BB+',\n",
       " 'BBB-',\n",
       " 'BBB',\n",
       " 'BBB+',\n",
       " 'A-',\n",
       " 'A',\n",
       " 'A+',\n",
       " 'AA-',\n",
       " 'AA',\n",
       " 'AA+',\n",
       " 'AAA']"
      ]
     },
     "execution_count": 12,
     "metadata": {},
     "output_type": "execute_result"
    }
   ],
   "source": [
    "class_names=list(table_rating.sort_values(by='code').index)\n",
    "class_names"
   ]
  },
  {
   "cell_type": "code",
   "execution_count": 13,
   "metadata": {},
   "outputs": [],
   "source": [
    "df['CASH_TO_LT_DEBT']  = df.BS_LT_BORROW/df.CF_FREE_CASH_FLOW\n",
    "df['RETURN_ON_CAP']    = df.NET_OPER_PROFIT_AFTER_TAX/df.TOTAL_INVESTED_CAPITAL\n",
    "df['CF_FFO_PER_SHARE'] = df.CF_CASH_FROM_OPER/df.BS_SH_OUT"
   ]
  },
  {
   "cell_type": "code",
   "execution_count": 14,
   "metadata": {},
   "outputs": [
    {
     "data": {
      "text/plain": [
       "106"
      ]
     },
     "execution_count": 14,
     "metadata": {},
     "output_type": "execute_result"
    }
   ],
   "source": [
    "numerical_features= list(df.columns[df.dtypes==np.float64])\n",
    "numerical_features=list(set(numerical_features)-set(['ENCODED_RATING']))\n",
    "len(numerical_features)"
   ]
  },
  {
   "cell_type": "markdown",
   "metadata": {},
   "source": [
    "# II - Data Cleaning"
   ]
  },
  {
   "cell_type": "markdown",
   "metadata": {},
   "source": [
    "## Removing features with too much missing values"
   ]
  },
  {
   "cell_type": "code",
   "execution_count": 15,
   "metadata": {},
   "outputs": [],
   "source": [
    "pct_na_feature=(df.isna().sum()/df.shape[0])\n",
    "threshold=0.1\n",
    "numerical_features = intersection(numerical_features, list(pct_na_feature[pct_na_feature<threshold].index))"
   ]
  },
  {
   "cell_type": "code",
   "execution_count": 16,
   "metadata": {},
   "outputs": [
    {
     "data": {
      "text/plain": [
       "76"
      ]
     },
     "execution_count": 16,
     "metadata": {},
     "output_type": "execute_result"
    }
   ],
   "source": [
    "len(numerical_features)"
   ]
  },
  {
   "cell_type": "markdown",
   "metadata": {},
   "source": [
    "## removing too correlated features"
   ]
  },
  {
   "cell_type": "code",
   "execution_count": 17,
   "metadata": {},
   "outputs": [],
   "source": [
    "cormat=np.abs(df[numerical_features].corr(method='spearman'))\n",
    "upper = cormat.where(np.triu(np.ones(cormat.shape), k=1).astype(np.bool))\n",
    "to_drop = [column for column in upper.columns if any(upper[column] > 0.95)]\n",
    "numerical_features=list(set(numerical_features)-set(to_drop))"
   ]
  },
  {
   "cell_type": "code",
   "execution_count": 18,
   "metadata": {},
   "outputs": [
    {
     "data": {
      "text/plain": [
       "59"
      ]
     },
     "execution_count": 18,
     "metadata": {},
     "output_type": "execute_result"
    }
   ],
   "source": [
    "len(numerical_features)"
   ]
  },
  {
   "cell_type": "markdown",
   "metadata": {},
   "source": [
    "# Encoding"
   ]
  },
  {
   "cell_type": "code",
   "execution_count": 19,
   "metadata": {},
   "outputs": [],
   "source": [
    "categorical_features = ['CRNCY', 'GICS_SECTOR_NAME']\n",
    "df[categorical_features]=df[categorical_features].astype('category')"
   ]
  },
  {
   "cell_type": "markdown",
   "metadata": {},
   "source": [
    "### Label encoding"
   ]
  },
  {
   "cell_type": "code",
   "execution_count": 20,
   "metadata": {},
   "outputs": [],
   "source": [
    "label_categorical_features=[]\n",
    "for feature in categorical_features:\n",
    "    df['ENCODED_'+feature]=df[feature].cat.codes\n",
    "    label_categorical_features.append('ENCODED_'+feature)"
   ]
  },
  {
   "cell_type": "code",
   "execution_count": 21,
   "metadata": {},
   "outputs": [],
   "source": [
    "df[label_categorical_features]=df[label_categorical_features].astype('category')"
   ]
  },
  {
   "cell_type": "markdown",
   "metadata": {},
   "source": [
    "### one hot encoding"
   ]
  },
  {
   "cell_type": "code",
   "execution_count": 22,
   "metadata": {},
   "outputs": [],
   "source": [
    "one_hot_categorical_features=[]\n",
    "for f in ['GICS_SECTOR_NAME']:\n",
    "    dummy= pd.get_dummies(df[f])\n",
    "    dummy.columns = ['ENCODED_'+f+'_'+c for c in dummy.columns]\n",
    "    one_hot_categorical_features+=list(dummy.columns)\n",
    "    df=pd.concat([df, dummy], axis=1)"
   ]
  },
  {
   "cell_type": "code",
   "execution_count": 23,
   "metadata": {},
   "outputs": [],
   "source": [
    "df['ENCODED_CURRENCY_USD']   = df.CRNCY.apply(lambda x: 1 if x.upper()=='USD' else 0)\n",
    "df['ENCODED_CURRENCY_EUR']   = df.CRNCY.apply(lambda x: 1 if x.upper()=='EUR' else 0)\n",
    "df['ENCODED_CURRENCY_GBP']   = df.CRNCY.apply(lambda x: 1 if x.upper()=='GBP' else 0)\n",
    "df['ENCODED_CURRENCY_OTHER'] = df.CRNCY.apply(lambda x: 0 if x.upper() in ['USD', 'EUR', 'GBP'] else 1)\n",
    "one_hot_categorical_features+= ['ENCODED_CURRENCY_USD','ENCODED_CURRENCY_EUR','ENCODED_CURRENCY_GBP','ENCODED_CURRENCY_OTHER']"
   ]
  },
  {
   "cell_type": "code",
   "execution_count": 24,
   "metadata": {},
   "outputs": [
    {
     "data": {
      "text/plain": [
       "<matplotlib.axes._subplots.AxesSubplot at 0xb66ceb8>"
      ]
     },
     "execution_count": 24,
     "metadata": {},
     "output_type": "execute_result"
    },
    {
     "data": {
      "image/png": "[encoded data removed]",
      "text/plain": [
       "<Figure size 432x288 with 1 Axes>"
      ]
     },
     "metadata": {
      "needs_background": "light"
     },
     "output_type": "display_data"
    }
   ],
   "source": [
    "df.ENCODED_RATING.hist(bins=20)"
   ]
  },
  {
   "cell_type": "markdown",
   "metadata": {},
   "source": [
    "# III - Framework of the problem : Multi Class classification"
   ]
  },
  {
   "cell_type": "markdown",
   "metadata": {},
   "source": [
    "Each rating is considered as a class and the objective will be to classify correctly each company. However as we see below some classes contain too few elements."
   ]
  },
  {
   "cell_type": "code",
   "execution_count": 70,
   "metadata": {},
   "outputs": [
    {
     "data": {
      "text/plain": [
       "RATING\n",
       "A        72\n",
       "A+       41\n",
       "A-      106\n",
       "AA        9\n",
       "AA+       3\n",
       "AA-      23\n",
       "AAA       2\n",
       "B         1\n",
       "B+        2\n",
       "BB       35\n",
       "BB+      44\n",
       "BB-      12\n",
       "BBB     170\n",
       "BBB+    154\n",
       "BBB-     72\n",
       "Name: ENCODED_RATING, dtype: int64"
      ]
     },
     "execution_count": 70,
     "metadata": {},
     "output_type": "execute_result"
    }
   ],
   "source": [
    "df.groupby('RATING').ENCODED_RATING.count()"
   ]
  },
  {
   "cell_type": "code",
   "execution_count": 26,
   "metadata": {},
   "outputs": [
    {
     "data": {
      "text/plain": [
       "ENCODED_RATING\n",
       "3.0     0.001340\n",
       "4.0     0.002681\n",
       "5.0     0.016086\n",
       "6.0     0.046917\n",
       "7.0     0.058981\n",
       "8.0     0.096515\n",
       "9.0     0.227882\n",
       "10.0    0.206434\n",
       "11.0    0.142091\n",
       "12.0    0.096515\n",
       "13.0    0.054960\n",
       "14.0    0.030831\n",
       "15.0    0.012064\n",
       "16.0    0.004021\n",
       "17.0    0.002681\n",
       "Name: ENCODED_RATING, dtype: float64"
      ]
     },
     "execution_count": 26,
     "metadata": {},
     "output_type": "execute_result"
    }
   ],
   "source": [
    "df.groupby('ENCODED_RATING').ENCODED_RATING.count()/df.shape[0]"
   ]
  },
  {
   "cell_type": "markdown",
   "metadata": {},
   "source": [
    "Some ratings have too few components. That's why we regoup some classes in order to have more at than 10 elements per class. Indeed if we split between train and test, we need at least few elements for the test class which has 1/3 elements of the total number."
   ]
  },
  {
   "cell_type": "markdown",
   "metadata": {},
   "source": [
    "For this reason, we create a new class denominated 'new_rating' which aggregates the less populated classes."
   ]
  },
  {
   "cell_type": "code",
   "execution_count": 27,
   "metadata": {},
   "outputs": [],
   "source": [
    "df['new_rating']=df.ENCODED_RATING-5\n",
    "df.loc[df.ENCODED_RATING<=5,'new_rating']=0\n",
    "df.loc[df.ENCODED_RATING>=15,'new_rating']=10"
   ]
  },
  {
   "cell_type": "code",
   "execution_count": 28,
   "metadata": {},
   "outputs": [],
   "source": [
    "new_class_names = ['<BB', 'BB', 'BB+', 'BBB-', 'BBB', 'BBB+', 'A-', 'A', 'A+', 'AA-', '>=AA']"
   ]
  },
  {
   "cell_type": "code",
   "execution_count": 29,
   "metadata": {},
   "outputs": [
    {
     "data": {
      "text/plain": [
       "new_rating\n",
       "0.0      15\n",
       "1.0      35\n",
       "2.0      44\n",
       "3.0      72\n",
       "4.0     170\n",
       "5.0     154\n",
       "6.0     106\n",
       "7.0      72\n",
       "8.0      41\n",
       "9.0      23\n",
       "10.0     14\n",
       "Name: new_rating, dtype: int64"
      ]
     },
     "execution_count": 29,
     "metadata": {},
     "output_type": "execute_result"
    }
   ],
   "source": [
    "df.groupby('new_rating').new_rating.count()"
   ]
  },
  {
   "cell_type": "code",
   "execution_count": 30,
   "metadata": {},
   "outputs": [
    {
     "data": {
      "text/plain": [
       "new_rating\n",
       "0.0     0.020107\n",
       "1.0     0.046917\n",
       "2.0     0.058981\n",
       "3.0     0.096515\n",
       "4.0     0.227882\n",
       "5.0     0.206434\n",
       "6.0     0.142091\n",
       "7.0     0.096515\n",
       "8.0     0.054960\n",
       "9.0     0.030831\n",
       "10.0    0.018767\n",
       "Name: new_rating, dtype: float64"
      ]
     },
     "execution_count": 30,
     "metadata": {},
     "output_type": "execute_result"
    }
   ],
   "source": [
    "df.groupby('new_rating').new_rating.count()/df.shape[0]"
   ]
  },
  {
   "cell_type": "markdown",
   "metadata": {},
   "source": [
    "## classes are unbalanced"
   ]
  },
  {
   "cell_type": "markdown",
   "metadata": {},
   "source": [
    "When we plot the histogram of the newly created ratings, we remark that classes are unbalanced. The most represented class has 20% of elements while less populated have 2%."
   ]
  },
  {
   "cell_type": "code",
   "execution_count": 31,
   "metadata": {},
   "outputs": [
    {
     "name": "stderr",
     "output_type": "stream",
     "text": [
      "D:\\Anaconda\\lib\\site-packages\\scipy\\stats\\stats.py:1713: FutureWarning: Using a non-tuple sequence for multidimensional indexing is deprecated; use `arr[tuple(seq)]` instead of `arr[seq]`. In the future this will be interpreted as an array index, `arr[np.array(seq)]`, which will result either in an error or a different result.\n",
      "  return np.add.reduce(sorted[indexer] * weights, axis=axis) / sumval\n"
     ]
    },
    {
     "data": {
      "image/png": "[encoded data removed]",
      "text/plain": [
       "<Figure size 1440x720 with 1 Axes>"
      ]
     },
     "metadata": {
      "needs_background": "light"
     },
     "output_type": "display_data"
    }
   ],
   "source": [
    "f, ax = plt.subplots(1, 1, figsize=(20,10))\n",
    "sns.distplot(df.new_rating,color=\"blue\", label=\"New Rating Classes\", ax=ax, bins=range(11))\n",
    "ax.set_title('Histograms of encoded ratings')\n",
    "ax.legend()\n",
    "f.savefig('data/unablanced_classes.png')"
   ]
  },
  {
   "cell_type": "markdown",
   "metadata": {},
   "source": [
    "\n",
    "We are interested in the quality of the prediction equally on the different classes even though some are more represented. \n",
    "The quality on each class can be measured by the F1 score which is a geometric average of :\n",
    "- precision: reliability of the learner when it makes predictions\n",
    "- recall: capacity of the learner to detect the classes\n",
    "\n",
    "This F1 score is computed for each class and then averaged without taking into account the weight of each class.\n"
   ]
  },
  {
   "cell_type": "code",
   "execution_count": 32,
   "metadata": {},
   "outputs": [],
   "source": [
    "f1_scorer=make_scorer(sk_metrics.f1_score, average='macro')"
   ]
  },
  {
   "cell_type": "markdown",
   "metadata": {},
   "source": [
    "# IV -  Machine Learning"
   ]
  },
  {
   "cell_type": "markdown",
   "metadata": {},
   "source": [
    "## A Introduction"
   ]
  },
  {
   "cell_type": "markdown",
   "metadata": {},
   "source": [
    "We will compare the perfomance of different machine learning methods to achieve a good classification. The different methods below will be all have hyperparameters optimized with respect to the F1 metric described above. Furtheremore we will add more metrics to have a critical assessement :\n",
    "- overall accuracy\n",
    "- average recall\n",
    "- average precision\n",
    "- average F1 score"
   ]
  },
  {
   "cell_type": "markdown",
   "metadata": {},
   "source": [
    "## B Preprocessing"
   ]
  },
  {
   "cell_type": "markdown",
   "metadata": {},
   "source": [
    "Prepocessing consists of these several steps\n",
    "- spllitting data beween  train and test sets\n",
    "  - two variants are done: one for label encoded data and one for one hot encoding\n",
    "- imputing methods to fill in the nas with median (numerical features) or majority data (categorical data)\n"
   ]
  },
  {
   "cell_type": "code",
   "execution_count": 33,
   "metadata": {},
   "outputs": [],
   "source": [
    "X=df[numerical_features+one_hot_categorical_features]\n",
    "y=pd.to_numeric(df.new_rating, downcast='integer')\n",
    "X_train, X_test, y_train, y_test = train_test_split(X, y, test_size=0.33, random_state=100, stratify=y)"
   ]
  },
  {
   "cell_type": "code",
   "execution_count": 34,
   "metadata": {},
   "outputs": [],
   "source": [
    "X_label=df[numerical_features+label_categorical_features]\n",
    "y=pd.to_numeric(df.new_rating, downcast='integer')\n",
    "X_train_label, X_test_label, y_train_label, y_test_label = train_test_split(X_label, y, test_size=0.33, random_state=100, stratify=y)"
   ]
  },
  {
   "cell_type": "code",
   "execution_count": 35,
   "metadata": {},
   "outputs": [],
   "source": [
    "numeric_transformer = Pipeline(steps=[\n",
    "    ('imputer', SimpleImputer(missing_values=np.nan, strategy='median')),\n",
    "    ('scaler', StandardScaler())\n",
    "])\n",
    "\n",
    "categorical_transformer= Pipeline(steps=[\n",
    "    ('imputer', SimpleImputer(strategy='most_frequent', missing_values=np.nan))\n",
    "])\n",
    "\n",
    "preprocessor = ColumnTransformer( transformers=[\n",
    "    ('num', numeric_transformer, numerical_features),\n",
    "    ('cat', categorical_transformer, one_hot_categorical_features)\n",
    "])\n",
    "\n",
    "preprocessor_label = ColumnTransformer( transformers=[\n",
    "    ('num', numeric_transformer, numerical_features),\n",
    "    ('cat', categorical_transformer, label_categorical_features)\n",
    "])"
   ]
  },
  {
   "cell_type": "markdown",
   "metadata": {},
   "source": [
    "## C Base Estimator : Logistic Regression"
   ]
  },
  {
   "cell_type": "code",
   "execution_count": null,
   "metadata": {},
   "outputs": [],
   "source": []
  },
  {
   "cell_type": "code",
   "execution_count": 36,
   "metadata": {},
   "outputs": [],
   "source": [
    "base_estimator = Pipeline(steps=[\n",
    "                           ('preprocessor', preprocessor),\n",
    "                           ('classifier', LogisticRegression(solver='saga',penalty='l1',C=1, multi_class='multinomial', max_iter=10000, tol=1e-4,n_jobs=-1, random_state=42))\n",
    "                     ])\n",
    "base_estimator.fit(X_train, y_train);"
   ]
  },
  {
   "cell_type": "code",
   "execution_count": 37,
   "metadata": {},
   "outputs": [
    {
     "data": {
      "text/html": [
       "<div>\n",
       "<style scoped>\n",
       "    .dataframe tbody tr th:only-of-type {\n",
       "        vertical-align: middle;\n",
       "    }\n",
       "\n",
       "    .dataframe tbody tr th {\n",
       "        vertical-align: top;\n",
       "    }\n",
       "\n",
       "    .dataframe thead th {\n",
       "        text-align: right;\n",
       "    }\n",
       "</style>\n",
       "<table border=\"1\" class=\"dataframe\">\n",
       "  <thead>\n",
       "    <tr style=\"text-align: right;\">\n",
       "      <th></th>\n",
       "      <th>Logistic Regression</th>\n",
       "    </tr>\n",
       "  </thead>\n",
       "  <tbody>\n",
       "    <tr>\n",
       "      <th>Train Accuracy</th>\n",
       "      <td>55.51%</td>\n",
       "    </tr>\n",
       "    <tr>\n",
       "      <th>Train Average Recall</th>\n",
       "      <td>56.05%</td>\n",
       "    </tr>\n",
       "    <tr>\n",
       "      <th>Train Average Precision</th>\n",
       "      <td>65.83%</td>\n",
       "    </tr>\n",
       "    <tr>\n",
       "      <th>Train Average F1 Score</th>\n",
       "      <td>60.04%</td>\n",
       "    </tr>\n",
       "    <tr>\n",
       "      <th>Test Accuracy</th>\n",
       "      <td>21.86%</td>\n",
       "    </tr>\n",
       "    <tr>\n",
       "      <th>Test Average Recall</th>\n",
       "      <td>22.72%</td>\n",
       "    </tr>\n",
       "    <tr>\n",
       "      <th>Test Average Precision</th>\n",
       "      <td>21.76%</td>\n",
       "    </tr>\n",
       "    <tr>\n",
       "      <th>Test Average F1 Score</th>\n",
       "      <td>21.75%</td>\n",
       "    </tr>\n",
       "  </tbody>\n",
       "</table>\n",
       "</div>"
      ],
      "text/plain": [
       "                        Logistic Regression\n",
       "Train Accuracy                       55.51%\n",
       "Train Average Recall                 56.05%\n",
       "Train Average Precision              65.83%\n",
       "Train Average F1 Score               60.04%\n",
       "Test Accuracy                        21.86%\n",
       "Test Average Recall                  22.72%\n",
       "Test Average Precision               21.76%\n",
       "Test Average F1 Score                21.75%"
      ]
     },
     "execution_count": 37,
     "metadata": {},
     "output_type": "execute_result"
    }
   ],
   "source": [
    "logit_scores = get_quality_scores(base_estimator,'Logistic Regression', X_train, X_test,y_train, y_test)\n",
    "logit_scores"
   ]
  },
  {
   "cell_type": "markdown",
   "metadata": {},
   "source": [
    "plot_confusion_matrix(base_estimator, X_test, y_test, title='Base Model Confusion Matrix', class_names=new_class_names);"
   ]
  },
  {
   "cell_type": "markdown",
   "metadata": {},
   "source": [
    "f, ax = plt.subplots(1, 1, figsize=(20,10))\n",
    "sns.distplot(base_estimator.predict(X_test),color=\"pink\", label=\"Prediction\",ax=ax, bins=range(y_test.min(), y_test.max()+1))\n",
    "sns.distplot(y_test,color=\"palegreen\", label=\"Test Set\", ax=ax, bins=range(y_test.min(), y_test.max()+1))\n",
    "ax.set_title('Histograms of encoded ratings')\n",
    "ax.legend()"
   ]
  },
  {
   "cell_type": "markdown",
   "metadata": {},
   "source": [
    "## Base Model Cross Validated Hyperparameters"
   ]
  },
  {
   "cell_type": "code",
   "execution_count": 38,
   "metadata": {},
   "outputs": [
    {
     "data": {
      "text/plain": [
       "dict_keys(['memory', 'steps', 'preprocessor', 'classifier', 'preprocessor__n_jobs', 'preprocessor__remainder', 'preprocessor__sparse_threshold', 'preprocessor__transformer_weights', 'preprocessor__transformers', 'preprocessor__num', 'preprocessor__cat', 'preprocessor__num__memory', 'preprocessor__num__steps', 'preprocessor__num__imputer', 'preprocessor__num__scaler', 'preprocessor__num__imputer__copy', 'preprocessor__num__imputer__fill_value', 'preprocessor__num__imputer__missing_values', 'preprocessor__num__imputer__strategy', 'preprocessor__num__imputer__verbose', 'preprocessor__num__scaler__copy', 'preprocessor__num__scaler__with_mean', 'preprocessor__num__scaler__with_std', 'preprocessor__cat__memory', 'preprocessor__cat__steps', 'preprocessor__cat__imputer', 'preprocessor__cat__imputer__copy', 'preprocessor__cat__imputer__fill_value', 'preprocessor__cat__imputer__missing_values', 'preprocessor__cat__imputer__strategy', 'preprocessor__cat__imputer__verbose', 'classifier__C', 'classifier__class_weight', 'classifier__dual', 'classifier__fit_intercept', 'classifier__intercept_scaling', 'classifier__max_iter', 'classifier__multi_class', 'classifier__n_jobs', 'classifier__penalty', 'classifier__random_state', 'classifier__solver', 'classifier__tol', 'classifier__verbose', 'classifier__warm_start'])"
      ]
     },
     "execution_count": 38,
     "metadata": {},
     "output_type": "execute_result"
    }
   ],
   "source": [
    "base_estimator.get_params().keys()"
   ]
  },
  {
   "cell_type": "code",
   "execution_count": 39,
   "metadata": {},
   "outputs": [
    {
     "name": "stderr",
     "output_type": "stream",
     "text": [
      "D:\\Anaconda\\lib\\site-packages\\sklearn\\model_selection\\_search.py:841: DeprecationWarning: The default of the `iid` parameter will change from True to False in version 0.22 and will be removed in 0.24. This will change numeric results when test-set sizes are unequal.\n",
      "  DeprecationWarning)\n"
     ]
    },
    {
     "data": {
      "text/plain": [
       "GridSearchCV(cv=3, error_score='raise-deprecating',\n",
       "       estimator=Pipeline(memory=None,\n",
       "     steps=[('preprocessor', ColumnTransformer(n_jobs=None, remainder='drop', sparse_threshold=0.3,\n",
       "         transformer_weights=None,\n",
       "         transformers=[('num', Pipeline(memory=None,\n",
       "     steps=[('imputer', SimpleImputer(copy=True, fill_value=None, missing_values=nan,\n",
       "       strategy='median', verbo..., penalty='l1', random_state=42, solver='saga',\n",
       "          tol=0.0001, verbose=0, warm_start=False))]),\n",
       "       fit_params=None, iid='warn', n_jobs=-1,\n",
       "       param_grid={'classifier__C': [0.0001, 0.001, 0.01, 0.1, 1, 10.0, 100.0, 1000.0, 10000.0], 'classifier__class_weight': [None, 'balanced']},\n",
       "       pre_dispatch='2*n_jobs', refit=True, return_train_score='warn',\n",
       "       scoring=make_scorer(f1_score, average=macro), verbose=0)"
      ]
     },
     "execution_count": 39,
     "metadata": {},
     "output_type": "execute_result"
    }
   ],
   "source": [
    "params={#'classifier__penalty': ['elasticnet'],\n",
    "        #'classifier__l1_ratio': [0, 0.25, 0.5, 0.75, 1],           # when 0 it is equivalent to have L2 penalty, when 1 equivalent to L1 penalty, otherwise mix\n",
    "        'classifier__C': [1e-4,1e-3,1e-2,1e-1,1,1e1,1e2,1e3,1e4],  # Inverse of regularization\n",
    "        'classifier__class_weight':[None, 'balanced']              # balanced mode adjusts weights inversely proportional to class frequencies\n",
    "       }\n",
    "f1_scorer = make_scorer(sk_metrics.f1_score, average='macro')\n",
    "logit_cv  = GridSearchCV(base_estimator,params,cv=3, scoring = f1_scorer,n_jobs=-1)\n",
    "logit_cv.fit(X_train,y_train)"
   ]
  },
  {
   "cell_type": "code",
   "execution_count": 40,
   "metadata": {},
   "outputs": [
    {
     "data": {
      "text/plain": [
       "{'classifier__C': 1, 'classifier__class_weight': 'balanced'}"
      ]
     },
     "execution_count": 40,
     "metadata": {},
     "output_type": "execute_result"
    }
   ],
   "source": [
    "logit_cv.best_params_"
   ]
  },
  {
   "cell_type": "code",
   "execution_count": 41,
   "metadata": {},
   "outputs": [
    {
     "data": {
      "text/html": [
       "<div>\n",
       "<style scoped>\n",
       "    .dataframe tbody tr th:only-of-type {\n",
       "        vertical-align: middle;\n",
       "    }\n",
       "\n",
       "    .dataframe tbody tr th {\n",
       "        vertical-align: top;\n",
       "    }\n",
       "\n",
       "    .dataframe thead th {\n",
       "        text-align: right;\n",
       "    }\n",
       "</style>\n",
       "<table border=\"1\" class=\"dataframe\">\n",
       "  <thead>\n",
       "    <tr style=\"text-align: right;\">\n",
       "      <th></th>\n",
       "      <th>Logistic Regression CV</th>\n",
       "    </tr>\n",
       "  </thead>\n",
       "  <tbody>\n",
       "    <tr>\n",
       "      <th>Train Accuracy</th>\n",
       "      <td>52.30%</td>\n",
       "    </tr>\n",
       "    <tr>\n",
       "      <th>Train Average Recall</th>\n",
       "      <td>69.26%</td>\n",
       "    </tr>\n",
       "    <tr>\n",
       "      <th>Train Average Precision</th>\n",
       "      <td>54.86%</td>\n",
       "    </tr>\n",
       "    <tr>\n",
       "      <th>Train Average F1 Score</th>\n",
       "      <td>59.42%</td>\n",
       "    </tr>\n",
       "    <tr>\n",
       "      <th>Test Accuracy</th>\n",
       "      <td>21.05%</td>\n",
       "    </tr>\n",
       "    <tr>\n",
       "      <th>Test Average Recall</th>\n",
       "      <td>27.19%</td>\n",
       "    </tr>\n",
       "    <tr>\n",
       "      <th>Test Average Precision</th>\n",
       "      <td>21.71%</td>\n",
       "    </tr>\n",
       "    <tr>\n",
       "      <th>Test Average F1 Score</th>\n",
       "      <td>22.26%</td>\n",
       "    </tr>\n",
       "  </tbody>\n",
       "</table>\n",
       "</div>"
      ],
      "text/plain": [
       "                        Logistic Regression CV\n",
       "Train Accuracy                          52.30%\n",
       "Train Average Recall                    69.26%\n",
       "Train Average Precision                 54.86%\n",
       "Train Average F1 Score                  59.42%\n",
       "Test Accuracy                           21.05%\n",
       "Test Average Recall                     27.19%\n",
       "Test Average Precision                  21.71%\n",
       "Test Average F1 Score                   22.26%"
      ]
     },
     "execution_count": 41,
     "metadata": {},
     "output_type": "execute_result"
    }
   ],
   "source": [
    "get_quality_scores(logit_cv,'Logistic Regression CV', X_train, X_test,y_train, y_test)"
   ]
  },
  {
   "cell_type": "code",
   "execution_count": 42,
   "metadata": {},
   "outputs": [
    {
     "data": {
      "image/png": "[encoded data removed]",
      "text/plain": [
       "<Figure size 720x504 with 2 Axes>"
      ]
     },
     "metadata": {
      "needs_background": "light"
     },
     "output_type": "display_data"
    }
   ],
   "source": [
    "fig_cm_logit = plot_confusion_matrix(logit_cv, X_test, y_test, title='Logistic Regression Confusion Matrix', class_names=new_class_names);\n",
    "fig_cm_logit.savefig('data/logit_confusion_matrix')"
   ]
  },
  {
   "cell_type": "markdown",
   "metadata": {},
   "source": [
    "## D: Support Vector Classifier"
   ]
  },
  {
   "cell_type": "code",
   "execution_count": 43,
   "metadata": {},
   "outputs": [
    {
     "name": "stderr",
     "output_type": "stream",
     "text": [
      "D:\\Anaconda\\lib\\site-packages\\sklearn\\svm\\base.py:196: FutureWarning: The default value of gamma will change from 'auto' to 'scale' in version 0.22 to account better for unscaled features. Set gamma explicitly to 'auto' or 'scale' to avoid this warning.\n",
      "  \"avoid this warning.\", FutureWarning)\n"
     ]
    }
   ],
   "source": [
    "sv_model = Pipeline(steps=[('preprocessor', preprocessor),\n",
    "                           ('classifier', SVC())\n",
    "                     ])\n",
    "sv_model.fit(X_train, y_train);"
   ]
  },
  {
   "cell_type": "markdown",
   "metadata": {},
   "source": [
    "sv_scores = get_quality_scores(sv_model,'SVC', X_train, X_test,y_train, y_test)\n",
    "sv_scores"
   ]
  },
  {
   "cell_type": "code",
   "execution_count": 44,
   "metadata": {},
   "outputs": [
    {
     "name": "stderr",
     "output_type": "stream",
     "text": [
      "D:\\Anaconda\\lib\\site-packages\\sklearn\\model_selection\\_search.py:841: DeprecationWarning: The default of the `iid` parameter will change from True to False in version 0.22 and will be removed in 0.24. This will change numeric results when test-set sizes are unequal.\n",
      "  DeprecationWarning)\n"
     ]
    }
   ],
   "source": [
    "params_grid = {'classifier__kernel' : ['linear', 'rbf', 'sigmoid'],\n",
    "               'classifier__C': [0.001, 0.01, 0.1, 1, 10],\n",
    "               'classifier__gamma' :[0.001, 0.01, 0.1, 1],\n",
    "               'classifier__class_weight' : [None, 'balanced']\n",
    "}\n",
    "sv_learner_cv = GridSearchCV(sv_model, params_grid, cv=3, scoring = f1_scorer, n_jobs=-1)\n",
    "sv_learner_cv.fit(X_train, y_train);"
   ]
  },
  {
   "cell_type": "code",
   "execution_count": 45,
   "metadata": {},
   "outputs": [
    {
     "data": {
      "text/plain": [
       "{'classifier__C': 1,\n",
       " 'classifier__class_weight': 'balanced',\n",
       " 'classifier__gamma': 0.001,\n",
       " 'classifier__kernel': 'linear'}"
      ]
     },
     "execution_count": 45,
     "metadata": {},
     "output_type": "execute_result"
    }
   ],
   "source": [
    "sv_learner_cv.best_params_"
   ]
  },
  {
   "cell_type": "code",
   "execution_count": 46,
   "metadata": {},
   "outputs": [
    {
     "data": {
      "text/html": [
       "<div>\n",
       "<style scoped>\n",
       "    .dataframe tbody tr th:only-of-type {\n",
       "        vertical-align: middle;\n",
       "    }\n",
       "\n",
       "    .dataframe tbody tr th {\n",
       "        vertical-align: top;\n",
       "    }\n",
       "\n",
       "    .dataframe thead th {\n",
       "        text-align: right;\n",
       "    }\n",
       "</style>\n",
       "<table border=\"1\" class=\"dataframe\">\n",
       "  <thead>\n",
       "    <tr style=\"text-align: right;\">\n",
       "      <th></th>\n",
       "      <th>SVC_cv</th>\n",
       "    </tr>\n",
       "  </thead>\n",
       "  <tbody>\n",
       "    <tr>\n",
       "      <th>Train Accuracy</th>\n",
       "      <td>72.14%</td>\n",
       "    </tr>\n",
       "    <tr>\n",
       "      <th>Train Average Recall</th>\n",
       "      <td>84.57%</td>\n",
       "    </tr>\n",
       "    <tr>\n",
       "      <th>Train Average Precision</th>\n",
       "      <td>77.19%</td>\n",
       "    </tr>\n",
       "    <tr>\n",
       "      <th>Train Average F1 Score</th>\n",
       "      <td>80.03%</td>\n",
       "    </tr>\n",
       "    <tr>\n",
       "      <th>Test Accuracy</th>\n",
       "      <td>22.67%</td>\n",
       "    </tr>\n",
       "    <tr>\n",
       "      <th>Test Average Recall</th>\n",
       "      <td>23.75%</td>\n",
       "    </tr>\n",
       "    <tr>\n",
       "      <th>Test Average Precision</th>\n",
       "      <td>24.47%</td>\n",
       "    </tr>\n",
       "    <tr>\n",
       "      <th>Test Average F1 Score</th>\n",
       "      <td>23.46%</td>\n",
       "    </tr>\n",
       "  </tbody>\n",
       "</table>\n",
       "</div>"
      ],
      "text/plain": [
       "                         SVC_cv\n",
       "Train Accuracy           72.14%\n",
       "Train Average Recall     84.57%\n",
       "Train Average Precision  77.19%\n",
       "Train Average F1 Score   80.03%\n",
       "Test Accuracy            22.67%\n",
       "Test Average Recall      23.75%\n",
       "Test Average Precision   24.47%\n",
       "Test Average F1 Score    23.46%"
      ]
     },
     "execution_count": 46,
     "metadata": {},
     "output_type": "execute_result"
    }
   ],
   "source": [
    "sv_cv_scores=get_quality_scores(sv_learner_cv,'SVC_cv', X_train, X_test,y_train, y_test)\n",
    "sv_cv_scores"
   ]
  },
  {
   "cell_type": "code",
   "execution_count": 47,
   "metadata": {},
   "outputs": [
    {
     "data": {
      "image/png": "[encoded data removed]",
      "text/plain": [
       "<Figure size 720x504 with 2 Axes>"
      ]
     },
     "metadata": {
      "needs_background": "light"
     },
     "output_type": "display_data"
    }
   ],
   "source": [
    "fig_cm_sv = plot_confusion_matrix(sv_learner_cv, X_test, y_test, title='Support Vector Classifier Confusion Matrix', class_names=new_class_names);\n",
    "fig_cm_sv.savefig('data/sv_confusion_matrix')"
   ]
  },
  {
   "cell_type": "markdown",
   "metadata": {},
   "source": [
    "## D: Random forest"
   ]
  },
  {
   "cell_type": "code",
   "execution_count": 48,
   "metadata": {},
   "outputs": [
    {
     "name": "stderr",
     "output_type": "stream",
     "text": [
      "D:\\Anaconda\\lib\\site-packages\\sklearn\\ensemble\\forest.py:246: FutureWarning: The default value of n_estimators will change from 10 in version 0.20 to 100 in 0.22.\n",
      "  \"10 in version 0.20 to 100 in 0.22.\", FutureWarning)\n"
     ]
    }
   ],
   "source": [
    "rf_model = Pipeline(steps=[('preprocessor', preprocessor_label),\n",
    "                           ('classifier', RandomForestClassifier())\n",
    "                     ])\n",
    "rf_model.fit(X_train_label, y_train_label);"
   ]
  },
  {
   "cell_type": "code",
   "execution_count": 49,
   "metadata": {},
   "outputs": [
    {
     "name": "stderr",
     "output_type": "stream",
     "text": [
      "D:\\Anaconda\\lib\\site-packages\\sklearn\\metrics\\classification.py:1143: UndefinedMetricWarning: Precision is ill-defined and being set to 0.0 in labels with no predicted samples.\n",
      "  'precision', 'predicted', average, warn_for)\n",
      "D:\\Anaconda\\lib\\site-packages\\sklearn\\metrics\\classification.py:1143: UndefinedMetricWarning: F-score is ill-defined and being set to 0.0 in labels with no predicted samples.\n",
      "  'precision', 'predicted', average, warn_for)\n"
     ]
    },
    {
     "data": {
      "text/html": [
       "<div>\n",
       "<style scoped>\n",
       "    .dataframe tbody tr th:only-of-type {\n",
       "        vertical-align: middle;\n",
       "    }\n",
       "\n",
       "    .dataframe tbody tr th {\n",
       "        vertical-align: top;\n",
       "    }\n",
       "\n",
       "    .dataframe thead th {\n",
       "        text-align: right;\n",
       "    }\n",
       "</style>\n",
       "<table border=\"1\" class=\"dataframe\">\n",
       "  <thead>\n",
       "    <tr style=\"text-align: right;\">\n",
       "      <th></th>\n",
       "      <th>Random Forest</th>\n",
       "    </tr>\n",
       "  </thead>\n",
       "  <tbody>\n",
       "    <tr>\n",
       "      <th>Train Accuracy</th>\n",
       "      <td>98.40%</td>\n",
       "    </tr>\n",
       "    <tr>\n",
       "      <th>Train Average Recall</th>\n",
       "      <td>97.98%</td>\n",
       "    </tr>\n",
       "    <tr>\n",
       "      <th>Train Average Precision</th>\n",
       "      <td>99.06%</td>\n",
       "    </tr>\n",
       "    <tr>\n",
       "      <th>Train Average F1 Score</th>\n",
       "      <td>98.50%</td>\n",
       "    </tr>\n",
       "    <tr>\n",
       "      <th>Test Accuracy</th>\n",
       "      <td>18.62%</td>\n",
       "    </tr>\n",
       "    <tr>\n",
       "      <th>Test Average Recall</th>\n",
       "      <td>12.30%</td>\n",
       "    </tr>\n",
       "    <tr>\n",
       "      <th>Test Average Precision</th>\n",
       "      <td>15.05%</td>\n",
       "    </tr>\n",
       "    <tr>\n",
       "      <th>Test Average F1 Score</th>\n",
       "      <td>12.41%</td>\n",
       "    </tr>\n",
       "  </tbody>\n",
       "</table>\n",
       "</div>"
      ],
      "text/plain": [
       "                        Random Forest\n",
       "Train Accuracy                 98.40%\n",
       "Train Average Recall           97.98%\n",
       "Train Average Precision        99.06%\n",
       "Train Average F1 Score         98.50%\n",
       "Test Accuracy                  18.62%\n",
       "Test Average Recall            12.30%\n",
       "Test Average Precision         15.05%\n",
       "Test Average F1 Score          12.41%"
      ]
     },
     "execution_count": 49,
     "metadata": {},
     "output_type": "execute_result"
    }
   ],
   "source": [
    "get_quality_scores(rf_model,'Random Forest', X_train_label, X_test_label,y_train_label, y_test_label)"
   ]
  },
  {
   "cell_type": "code",
   "execution_count": 50,
   "metadata": {},
   "outputs": [
    {
     "name": "stderr",
     "output_type": "stream",
     "text": [
      "D:\\Anaconda\\lib\\site-packages\\sklearn\\model_selection\\_search.py:841: DeprecationWarning: The default of the `iid` parameter will change from True to False in version 0.22 and will be removed in 0.24. This will change numeric results when test-set sizes are unequal.\n",
      "  DeprecationWarning)\n"
     ]
    }
   ],
   "source": [
    "rf_model = Pipeline(steps=[('preprocessor', preprocessor_label),\n",
    "                           ('classifier', RandomForestClassifier())\n",
    "                     ])\n",
    "params_grid = {'classifier__n_estimators': [10,100,1000],             # Number of trees in random forest\n",
    "               'classifier__max_features': ['auto', 'sqrt', 'log2', 3],  # Number of features to consider at every split\n",
    "               'classifier__max_depth'   : [3,5,20, None],            # Maximum number of levels in tree\n",
    "               'classifier__min_samples_split' : [2, 5, 10],          # Minimum number of samples required to split a node\n",
    "               'classifier__min_samples_leaf'   : [1, 2, 4]           # Minimum number of samples required at each leaf node\n",
    "              }\n",
    "\n",
    "rf_learner_cv = GridSearchCV(rf_model, params_grid, cv=3, scoring = f1_scorer, n_jobs=-1)\n",
    "rf_learner_cv.fit(X_train_label, y_train_label);"
   ]
  },
  {
   "cell_type": "code",
   "execution_count": 51,
   "metadata": {},
   "outputs": [
    {
     "name": "stderr",
     "output_type": "stream",
     "text": [
      "D:\\Anaconda\\lib\\site-packages\\sklearn\\metrics\\classification.py:1143: UndefinedMetricWarning: Precision is ill-defined and being set to 0.0 in labels with no predicted samples.\n",
      "  'precision', 'predicted', average, warn_for)\n",
      "D:\\Anaconda\\lib\\site-packages\\sklearn\\metrics\\classification.py:1143: UndefinedMetricWarning: F-score is ill-defined and being set to 0.0 in labels with no predicted samples.\n",
      "  'precision', 'predicted', average, warn_for)\n"
     ]
    },
    {
     "data": {
      "text/html": [
       "<div>\n",
       "<style scoped>\n",
       "    .dataframe tbody tr th:only-of-type {\n",
       "        vertical-align: middle;\n",
       "    }\n",
       "\n",
       "    .dataframe tbody tr th {\n",
       "        vertical-align: top;\n",
       "    }\n",
       "\n",
       "    .dataframe thead th {\n",
       "        text-align: right;\n",
       "    }\n",
       "</style>\n",
       "<table border=\"1\" class=\"dataframe\">\n",
       "  <thead>\n",
       "    <tr style=\"text-align: right;\">\n",
       "      <th></th>\n",
       "      <th>Random Forest CV</th>\n",
       "    </tr>\n",
       "  </thead>\n",
       "  <tbody>\n",
       "    <tr>\n",
       "      <th>Train Accuracy</th>\n",
       "      <td>96.79%</td>\n",
       "    </tr>\n",
       "    <tr>\n",
       "      <th>Train Average Recall</th>\n",
       "      <td>93.60%</td>\n",
       "    </tr>\n",
       "    <tr>\n",
       "      <th>Train Average Precision</th>\n",
       "      <td>97.33%</td>\n",
       "    </tr>\n",
       "    <tr>\n",
       "      <th>Train Average F1 Score</th>\n",
       "      <td>95.17%</td>\n",
       "    </tr>\n",
       "    <tr>\n",
       "      <th>Test Accuracy</th>\n",
       "      <td>25.51%</td>\n",
       "    </tr>\n",
       "    <tr>\n",
       "      <th>Test Average Recall</th>\n",
       "      <td>16.37%</td>\n",
       "    </tr>\n",
       "    <tr>\n",
       "      <th>Test Average Precision</th>\n",
       "      <td>16.98%</td>\n",
       "    </tr>\n",
       "    <tr>\n",
       "      <th>Test Average F1 Score</th>\n",
       "      <td>16.12%</td>\n",
       "    </tr>\n",
       "  </tbody>\n",
       "</table>\n",
       "</div>"
      ],
      "text/plain": [
       "                        Random Forest CV\n",
       "Train Accuracy                    96.79%\n",
       "Train Average Recall              93.60%\n",
       "Train Average Precision           97.33%\n",
       "Train Average F1 Score            95.17%\n",
       "Test Accuracy                     25.51%\n",
       "Test Average Recall               16.37%\n",
       "Test Average Precision            16.98%\n",
       "Test Average F1 Score             16.12%"
      ]
     },
     "execution_count": 51,
     "metadata": {},
     "output_type": "execute_result"
    }
   ],
   "source": [
    "rf_cv_scores = get_quality_scores(rf_learner_cv,'Random Forest CV', X_train_label, X_test_label,y_train_label, y_test_label)\n",
    "rf_cv_scores"
   ]
  },
  {
   "cell_type": "code",
   "execution_count": 52,
   "metadata": {},
   "outputs": [
    {
     "data": {
      "image/png": "[encoded data removed]",
      "text/plain": [
       "<Figure size 720x504 with 2 Axes>"
      ]
     },
     "metadata": {
      "needs_background": "light"
     },
     "output_type": "display_data"
    }
   ],
   "source": [
    "fig_cm_rf = plot_confusion_matrix(rf_learner_cv, X_test_label, y_test_label, title='Random Forest Confusion Matrix', class_names=new_class_names);\n",
    "fig_cm_rf.savefig('data/rf_confusion_matrix')"
   ]
  },
  {
   "cell_type": "markdown",
   "metadata": {},
   "source": [
    "## E: Gradient Boosting"
   ]
  },
  {
   "cell_type": "code",
   "execution_count": 53,
   "metadata": {},
   "outputs": [
    {
     "name": "stderr",
     "output_type": "stream",
     "text": [
      "D:\\Anaconda\\lib\\site-packages\\sklearn\\model_selection\\_search.py:841: DeprecationWarning: The default of the `iid` parameter will change from True to False in version 0.22 and will be removed in 0.24. This will change numeric results when test-set sizes are unequal.\n",
      "  DeprecationWarning)\n"
     ]
    }
   ],
   "source": [
    "gb_model = Pipeline(steps=[('preprocessor', preprocessor_label),\n",
    "                           ('classifier', GradientBoostingClassifier())\n",
    "                     ])\n",
    "\n",
    "params_grid = {'classifier__n_estimators': [10,100,1000],             # Number of trees in random forest\n",
    "               'classifier__max_features': ['auto', 'sqrt', 'log2'],  # Number of features to consider at every split\n",
    "               'classifier__max_depth'   : [3,5,20, None],            # Maximum number of levels in tree\n",
    "               'classifier__min_samples_split' : [2, 5, 10],          # Minimum number of samples required to split a node\n",
    "               'classifier__min_samples_leaf'   : [1, 2, 4]           # Minimum number of samples required at each leaf node\n",
    "              }\n",
    "\n",
    "gb_learner_cv = GridSearchCV(gb_model, params_grid, cv=3, scoring = f1_scorer, n_jobs=-1)\n",
    "gb_learner_cv.fit(X_train_label, y_train_label);"
   ]
  },
  {
   "cell_type": "code",
   "execution_count": 54,
   "metadata": {},
   "outputs": [
    {
     "data": {
      "text/html": [
       "<div>\n",
       "<style scoped>\n",
       "    .dataframe tbody tr th:only-of-type {\n",
       "        vertical-align: middle;\n",
       "    }\n",
       "\n",
       "    .dataframe tbody tr th {\n",
       "        vertical-align: top;\n",
       "    }\n",
       "\n",
       "    .dataframe thead th {\n",
       "        text-align: right;\n",
       "    }\n",
       "</style>\n",
       "<table border=\"1\" class=\"dataframe\">\n",
       "  <thead>\n",
       "    <tr style=\"text-align: right;\">\n",
       "      <th></th>\n",
       "      <th>Gradient Boosting CV</th>\n",
       "    </tr>\n",
       "  </thead>\n",
       "  <tbody>\n",
       "    <tr>\n",
       "      <th>Train Accuracy</th>\n",
       "      <td>100.00%</td>\n",
       "    </tr>\n",
       "    <tr>\n",
       "      <th>Train Average Recall</th>\n",
       "      <td>100.00%</td>\n",
       "    </tr>\n",
       "    <tr>\n",
       "      <th>Train Average Precision</th>\n",
       "      <td>100.00%</td>\n",
       "    </tr>\n",
       "    <tr>\n",
       "      <th>Train Average F1 Score</th>\n",
       "      <td>100.00%</td>\n",
       "    </tr>\n",
       "    <tr>\n",
       "      <th>Test Accuracy</th>\n",
       "      <td>22.27%</td>\n",
       "    </tr>\n",
       "    <tr>\n",
       "      <th>Test Average Recall</th>\n",
       "      <td>15.15%</td>\n",
       "    </tr>\n",
       "    <tr>\n",
       "      <th>Test Average Precision</th>\n",
       "      <td>17.09%</td>\n",
       "    </tr>\n",
       "    <tr>\n",
       "      <th>Test Average F1 Score</th>\n",
       "      <td>15.55%</td>\n",
       "    </tr>\n",
       "  </tbody>\n",
       "</table>\n",
       "</div>"
      ],
      "text/plain": [
       "                        Gradient Boosting CV\n",
       "Train Accuracy                       100.00%\n",
       "Train Average Recall                 100.00%\n",
       "Train Average Precision              100.00%\n",
       "Train Average F1 Score               100.00%\n",
       "Test Accuracy                         22.27%\n",
       "Test Average Recall                   15.15%\n",
       "Test Average Precision                17.09%\n",
       "Test Average F1 Score                 15.55%"
      ]
     },
     "execution_count": 54,
     "metadata": {},
     "output_type": "execute_result"
    }
   ],
   "source": [
    "gb_cv_scores = get_quality_scores(gb_learner_cv,'Gradient Boosting CV', X_train_label, X_test_label,y_train_label, y_test_label)\n",
    "gb_cv_scores"
   ]
  },
  {
   "cell_type": "code",
   "execution_count": 55,
   "metadata": {},
   "outputs": [
    {
     "data": {
      "image/png": "[encoded data removed]",
      "text/plain": [
       "<Figure size 720x504 with 2 Axes>"
      ]
     },
     "metadata": {
      "needs_background": "light"
     },
     "output_type": "display_data"
    }
   ],
   "source": [
    "fig_cm_gb = plot_confusion_matrix(gb_learner_cv, X_test_label, y_test_label, title='Gradient Boosting Confusion Matrix', class_names=new_class_names);\n",
    "fig_cm_gb.savefig('data/gb_confusion_matrix')"
   ]
  },
  {
   "cell_type": "markdown",
   "metadata": {},
   "source": [
    "# ORDERED CLASSIFICATION MORD"
   ]
  },
  {
   "cell_type": "markdown",
   "metadata": {},
   "source": [
    "## Mord Logistic AT"
   ]
  },
  {
   "cell_type": "code",
   "execution_count": 56,
   "metadata": {},
   "outputs": [
    {
     "name": "stderr",
     "output_type": "stream",
     "text": [
      "D:\\Anaconda\\lib\\site-packages\\sklearn\\model_selection\\_search.py:841: DeprecationWarning: The default of the `iid` parameter will change from True to False in version 0.22 and will be removed in 0.24. This will change numeric results when test-set sizes are unequal.\n",
      "  DeprecationWarning)\n"
     ]
    }
   ],
   "source": [
    "mord_at_learner = Pipeline(steps=[('preprocessor', preprocessor),\n",
    "                                  ('classifier', mord.LogisticAT(alpha=1.))\n",
    "                     ])\n",
    "params_grid = {'classifier__alpha': [1e-4, 1e-3, 1e-2, 1e-1, 1, 1e1, 1e2, 1e3, 1e4] }\n",
    "#my_scorer=make_scorer(sk_metrics.accuracy_score, )\n",
    "mord_at_cv= GridSearchCV(mord_at_learner, params_grid, cv=3, scoring = f1_scorer, n_jobs=-1)\n",
    "mord_at_cv.fit(X_train, y_train);"
   ]
  },
  {
   "cell_type": "code",
   "execution_count": 57,
   "metadata": {},
   "outputs": [
    {
     "data": {
      "text/html": [
       "<div>\n",
       "<style scoped>\n",
       "    .dataframe tbody tr th:only-of-type {\n",
       "        vertical-align: middle;\n",
       "    }\n",
       "\n",
       "    .dataframe tbody tr th {\n",
       "        vertical-align: top;\n",
       "    }\n",
       "\n",
       "    .dataframe thead th {\n",
       "        text-align: right;\n",
       "    }\n",
       "</style>\n",
       "<table border=\"1\" class=\"dataframe\">\n",
       "  <thead>\n",
       "    <tr style=\"text-align: right;\">\n",
       "      <th></th>\n",
       "      <th>MORD Logistic Regression AT</th>\n",
       "    </tr>\n",
       "  </thead>\n",
       "  <tbody>\n",
       "    <tr>\n",
       "      <th>Train Accuracy</th>\n",
       "      <td>34.87%</td>\n",
       "    </tr>\n",
       "    <tr>\n",
       "      <th>Train Average Recall</th>\n",
       "      <td>26.37%</td>\n",
       "    </tr>\n",
       "    <tr>\n",
       "      <th>Train Average Precision</th>\n",
       "      <td>33.29%</td>\n",
       "    </tr>\n",
       "    <tr>\n",
       "      <th>Train Average F1 Score</th>\n",
       "      <td>28.34%</td>\n",
       "    </tr>\n",
       "    <tr>\n",
       "      <th>Test Accuracy</th>\n",
       "      <td>32.39%</td>\n",
       "    </tr>\n",
       "    <tr>\n",
       "      <th>Test Average Recall</th>\n",
       "      <td>26.06%</td>\n",
       "    </tr>\n",
       "    <tr>\n",
       "      <th>Test Average Precision</th>\n",
       "      <td>30.62%</td>\n",
       "    </tr>\n",
       "    <tr>\n",
       "      <th>Test Average F1 Score</th>\n",
       "      <td>26.24%</td>\n",
       "    </tr>\n",
       "  </tbody>\n",
       "</table>\n",
       "</div>"
      ],
      "text/plain": [
       "                        MORD Logistic Regression AT \n",
       "Train Accuracy                                34.87%\n",
       "Train Average Recall                          26.37%\n",
       "Train Average Precision                       33.29%\n",
       "Train Average F1 Score                        28.34%\n",
       "Test Accuracy                                 32.39%\n",
       "Test Average Recall                           26.06%\n",
       "Test Average Precision                        30.62%\n",
       "Test Average F1 Score                         26.24%"
      ]
     },
     "execution_count": 57,
     "metadata": {},
     "output_type": "execute_result"
    }
   ],
   "source": [
    "mord_at_scores = get_quality_scores(mord_at_cv,'MORD Logistic Regression AT ', X_train, X_test,y_train, y_test)\n",
    "mord_at_scores"
   ]
  },
  {
   "cell_type": "code",
   "execution_count": 58,
   "metadata": {},
   "outputs": [],
   "source": [
    "#fig, ax =plot_validation_curve(mord_at_learner, X, y,'classifier__alpha', [1e-4, 1e-3, 1e-2, 1e-1, 1, 1e1, 1e2, 1e3, 1e4],'Validation Curve for Ridge Regression', f1_scorer)"
   ]
  },
  {
   "cell_type": "code",
   "execution_count": 59,
   "metadata": {},
   "outputs": [
    {
     "data": {
      "image/png": "[encoded data removed]",
      "text/plain": [
       "<Figure size 720x504 with 2 Axes>"
      ]
     },
     "metadata": {
      "needs_background": "light"
     },
     "output_type": "display_data"
    }
   ],
   "source": [
    "fig_cm_mordat=plot_confusion_matrix(mord_at_cv, X_test, y_test, title='MORD LogisticAT Confusion Matrix', class_names=new_class_names);\n",
    "fig_cm_mordat.savefig('data/mord_logisticAT_confusion_matrix')"
   ]
  },
  {
   "cell_type": "markdown",
   "metadata": {},
   "source": [
    "## MORD Logistic IT"
   ]
  },
  {
   "cell_type": "code",
   "execution_count": 60,
   "metadata": {},
   "outputs": [],
   "source": [
    "mord_it_learner = Pipeline(steps=[('preprocessor', preprocessor),\n",
    "                                  ('classifier', mord.LogisticIT(alpha=1.))\n",
    "                     ])\n",
    "params_grid = {'classifier__alpha': [1e-4, 1e-3, 1e-2, 1e-1, 1, 1e1, 1e2, 1e3, 1e4] }\n",
    "\n",
    "mord_it_cv = GridSearchCV(mord_it_learner, params_grid, cv=5, scoring = f1_scorer, n_jobs=-1)\n",
    "mord_it_cv.fit(X_train, y_train);"
   ]
  },
  {
   "cell_type": "code",
   "execution_count": 61,
   "metadata": {},
   "outputs": [
    {
     "name": "stderr",
     "output_type": "stream",
     "text": [
      "D:\\Anaconda\\lib\\site-packages\\sklearn\\metrics\\classification.py:1143: UndefinedMetricWarning: Precision is ill-defined and being set to 0.0 in labels with no predicted samples.\n",
      "  'precision', 'predicted', average, warn_for)\n",
      "D:\\Anaconda\\lib\\site-packages\\sklearn\\metrics\\classification.py:1143: UndefinedMetricWarning: F-score is ill-defined and being set to 0.0 in labels with no predicted samples.\n",
      "  'precision', 'predicted', average, warn_for)\n",
      "D:\\Anaconda\\lib\\site-packages\\sklearn\\metrics\\classification.py:1143: UndefinedMetricWarning: Precision is ill-defined and being set to 0.0 in labels with no predicted samples.\n",
      "  'precision', 'predicted', average, warn_for)\n",
      "D:\\Anaconda\\lib\\site-packages\\sklearn\\metrics\\classification.py:1143: UndefinedMetricWarning: F-score is ill-defined and being set to 0.0 in labels with no predicted samples.\n",
      "  'precision', 'predicted', average, warn_for)\n"
     ]
    },
    {
     "data": {
      "text/html": [
       "<div>\n",
       "<style scoped>\n",
       "    .dataframe tbody tr th:only-of-type {\n",
       "        vertical-align: middle;\n",
       "    }\n",
       "\n",
       "    .dataframe tbody tr th {\n",
       "        vertical-align: top;\n",
       "    }\n",
       "\n",
       "    .dataframe thead th {\n",
       "        text-align: right;\n",
       "    }\n",
       "</style>\n",
       "<table border=\"1\" class=\"dataframe\">\n",
       "  <thead>\n",
       "    <tr style=\"text-align: right;\">\n",
       "      <th></th>\n",
       "      <th>MORD Logistic Regression IT</th>\n",
       "    </tr>\n",
       "  </thead>\n",
       "  <tbody>\n",
       "    <tr>\n",
       "      <th>Train Accuracy</th>\n",
       "      <td>33.07%</td>\n",
       "    </tr>\n",
       "    <tr>\n",
       "      <th>Train Average Recall</th>\n",
       "      <td>25.12%</td>\n",
       "    </tr>\n",
       "    <tr>\n",
       "      <th>Train Average Precision</th>\n",
       "      <td>27.20%</td>\n",
       "    </tr>\n",
       "    <tr>\n",
       "      <th>Train Average F1 Score</th>\n",
       "      <td>24.10%</td>\n",
       "    </tr>\n",
       "    <tr>\n",
       "      <th>Test Accuracy</th>\n",
       "      <td>31.58%</td>\n",
       "    </tr>\n",
       "    <tr>\n",
       "      <th>Test Average Recall</th>\n",
       "      <td>25.54%</td>\n",
       "    </tr>\n",
       "    <tr>\n",
       "      <th>Test Average Precision</th>\n",
       "      <td>23.24%</td>\n",
       "    </tr>\n",
       "    <tr>\n",
       "      <th>Test Average F1 Score</th>\n",
       "      <td>23.19%</td>\n",
       "    </tr>\n",
       "  </tbody>\n",
       "</table>\n",
       "</div>"
      ],
      "text/plain": [
       "                        MORD Logistic Regression IT \n",
       "Train Accuracy                                33.07%\n",
       "Train Average Recall                          25.12%\n",
       "Train Average Precision                       27.20%\n",
       "Train Average F1 Score                        24.10%\n",
       "Test Accuracy                                 31.58%\n",
       "Test Average Recall                           25.54%\n",
       "Test Average Precision                        23.24%\n",
       "Test Average F1 Score                         23.19%"
      ]
     },
     "execution_count": 61,
     "metadata": {},
     "output_type": "execute_result"
    }
   ],
   "source": [
    "mord_it_scores = get_quality_scores(mord_it_cv,'MORD Logistic Regression IT ', X_train, X_test,y_train, y_test)\n",
    "mord_it_scores"
   ]
  },
  {
   "cell_type": "code",
   "execution_count": 62,
   "metadata": {},
   "outputs": [
    {
     "data": {
      "image/png": "[encoded data removed]",
      "text/plain": [
       "<Figure size 720x504 with 2 Axes>"
      ]
     },
     "metadata": {
      "needs_background": "light"
     },
     "output_type": "display_data"
    }
   ],
   "source": [
    "fig_cm_mordit = plot_confusion_matrix(mord_it_cv, X_test, y_test, title='MORD LogisticIT Confusion Matrix', class_names=new_class_names);\n",
    "fig_cm_mordit.savefig('data/mord_logisticIT_confusion_matrix')"
   ]
  },
  {
   "cell_type": "markdown",
   "metadata": {},
   "source": [
    "## MORD LAD"
   ]
  },
  {
   "cell_type": "code",
   "execution_count": 63,
   "metadata": {},
   "outputs": [
    {
     "name": "stderr",
     "output_type": "stream",
     "text": [
      "D:\\Anaconda\\lib\\site-packages\\sklearn\\model_selection\\_search.py:841: DeprecationWarning: The default of the `iid` parameter will change from True to False in version 0.22 and will be removed in 0.24. This will change numeric results when test-set sizes are unequal.\n",
      "  DeprecationWarning)\n",
      "D:\\Anaconda\\lib\\site-packages\\sklearn\\svm\\base.py:922: ConvergenceWarning: Liblinear failed to converge, increase the number of iterations.\n",
      "  \"the number of iterations.\", ConvergenceWarning)\n"
     ]
    }
   ],
   "source": [
    "mord_lad_learner = Pipeline(steps=[('preprocessor', preprocessor),\n",
    "                                  ('classifier', mord.LAD(max_iter=10000))\n",
    "                     ])\n",
    "params_grid = {'classifier__C': [1e-4, 1e-3, 1e-2, 1e-1, 1, 1e1, 1e2, 1e3, 1e4] }\n",
    "\n",
    "mord_lad_cv = GridSearchCV(mord_lad_learner, params_grid, cv=5, scoring = f1_scorer, n_jobs=-1)\n",
    "mord_lad_cv.fit(X_train, y_train);"
   ]
  },
  {
   "cell_type": "code",
   "execution_count": 64,
   "metadata": {},
   "outputs": [
    {
     "data": {
      "text/html": [
       "<div>\n",
       "<style scoped>\n",
       "    .dataframe tbody tr th:only-of-type {\n",
       "        vertical-align: middle;\n",
       "    }\n",
       "\n",
       "    .dataframe tbody tr th {\n",
       "        vertical-align: top;\n",
       "    }\n",
       "\n",
       "    .dataframe thead th {\n",
       "        text-align: right;\n",
       "    }\n",
       "</style>\n",
       "<table border=\"1\" class=\"dataframe\">\n",
       "  <thead>\n",
       "    <tr style=\"text-align: right;\">\n",
       "      <th></th>\n",
       "      <th>MORD LAD</th>\n",
       "    </tr>\n",
       "  </thead>\n",
       "  <tbody>\n",
       "    <tr>\n",
       "      <th>Train Accuracy</th>\n",
       "      <td>35.27%</td>\n",
       "    </tr>\n",
       "    <tr>\n",
       "      <th>Train Average Recall</th>\n",
       "      <td>25.48%</td>\n",
       "    </tr>\n",
       "    <tr>\n",
       "      <th>Train Average Precision</th>\n",
       "      <td>33.21%</td>\n",
       "    </tr>\n",
       "    <tr>\n",
       "      <th>Train Average F1 Score</th>\n",
       "      <td>27.02%</td>\n",
       "    </tr>\n",
       "    <tr>\n",
       "      <th>Test Accuracy</th>\n",
       "      <td>28.34%</td>\n",
       "    </tr>\n",
       "    <tr>\n",
       "      <th>Test Average Recall</th>\n",
       "      <td>20.90%</td>\n",
       "    </tr>\n",
       "    <tr>\n",
       "      <th>Test Average Precision</th>\n",
       "      <td>21.86%</td>\n",
       "    </tr>\n",
       "    <tr>\n",
       "      <th>Test Average F1 Score</th>\n",
       "      <td>20.92%</td>\n",
       "    </tr>\n",
       "  </tbody>\n",
       "</table>\n",
       "</div>"
      ],
      "text/plain": [
       "                        MORD LAD \n",
       "Train Accuracy             35.27%\n",
       "Train Average Recall       25.48%\n",
       "Train Average Precision    33.21%\n",
       "Train Average F1 Score     27.02%\n",
       "Test Accuracy              28.34%\n",
       "Test Average Recall        20.90%\n",
       "Test Average Precision     21.86%\n",
       "Test Average F1 Score      20.92%"
      ]
     },
     "execution_count": 64,
     "metadata": {},
     "output_type": "execute_result"
    }
   ],
   "source": [
    "mord_lad_scores = get_quality_scores(mord_lad_cv,'MORD LAD ', X_train, X_test,y_train, y_test)\n",
    "mord_lad_scores"
   ]
  },
  {
   "cell_type": "code",
   "execution_count": 65,
   "metadata": {},
   "outputs": [
    {
     "data": {
      "image/png": "[encoded data removed]",
      "text/plain": [
       "<Figure size 720x504 with 2 Axes>"
      ]
     },
     "metadata": {
      "needs_background": "light"
     },
     "output_type": "display_data"
    }
   ],
   "source": [
    "fig_cm_mordLAD = plot_confusion_matrix(mord_lad_cv, X_test, y_test, title='MORD LAD Confusion Matrix', class_names=new_class_names);\n",
    "fig_cm_mordLAD.savefig('data/mord_LAD_confusion_matrix')"
   ]
  },
  {
   "cell_type": "markdown",
   "metadata": {},
   "source": [
    "## MORD Ridge Regression"
   ]
  },
  {
   "cell_type": "code",
   "execution_count": 66,
   "metadata": {},
   "outputs": [],
   "source": [
    "mord_ridge_learner = Pipeline(steps=[('preprocessor', preprocessor),\n",
    "                                  ('classifier', mord.OrdinalRidge())\n",
    "                     ])\n",
    "params_grid = {'classifier__alpha': [1e-4, 1e-3, 1e-2, 1e-1, 1, 1e1, 1e2, 1e3, 1e4] }\n",
    "mord_ridge_cv = GridSearchCV(mord_ridge_learner, params_grid, cv=5, scoring = f1_scorer, n_jobs=-1)\n",
    "mord_ridge_cv.fit(X_train, y_train);"
   ]
  },
  {
   "cell_type": "code",
   "execution_count": 67,
   "metadata": {},
   "outputs": [
    {
     "name": "stderr",
     "output_type": "stream",
     "text": [
      "D:\\Anaconda\\lib\\site-packages\\sklearn\\metrics\\classification.py:1143: UndefinedMetricWarning: Precision is ill-defined and being set to 0.0 in labels with no predicted samples.\n",
      "  'precision', 'predicted', average, warn_for)\n",
      "D:\\Anaconda\\lib\\site-packages\\sklearn\\metrics\\classification.py:1143: UndefinedMetricWarning: F-score is ill-defined and being set to 0.0 in labels with no predicted samples.\n",
      "  'precision', 'predicted', average, warn_for)\n"
     ]
    },
    {
     "data": {
      "text/html": [
       "<div>\n",
       "<style scoped>\n",
       "    .dataframe tbody tr th:only-of-type {\n",
       "        vertical-align: middle;\n",
       "    }\n",
       "\n",
       "    .dataframe tbody tr th {\n",
       "        vertical-align: top;\n",
       "    }\n",
       "\n",
       "    .dataframe thead th {\n",
       "        text-align: right;\n",
       "    }\n",
       "</style>\n",
       "<table border=\"1\" class=\"dataframe\">\n",
       "  <thead>\n",
       "    <tr style=\"text-align: right;\">\n",
       "      <th></th>\n",
       "      <th>MORD Ridge</th>\n",
       "    </tr>\n",
       "  </thead>\n",
       "  <tbody>\n",
       "    <tr>\n",
       "      <th>Train Accuracy</th>\n",
       "      <td>32.67%</td>\n",
       "    </tr>\n",
       "    <tr>\n",
       "      <th>Train Average Recall</th>\n",
       "      <td>25.65%</td>\n",
       "    </tr>\n",
       "    <tr>\n",
       "      <th>Train Average Precision</th>\n",
       "      <td>36.11%</td>\n",
       "    </tr>\n",
       "    <tr>\n",
       "      <th>Train Average F1 Score</th>\n",
       "      <td>28.10%</td>\n",
       "    </tr>\n",
       "    <tr>\n",
       "      <th>Test Accuracy</th>\n",
       "      <td>29.96%</td>\n",
       "    </tr>\n",
       "    <tr>\n",
       "      <th>Test Average Recall</th>\n",
       "      <td>22.44%</td>\n",
       "    </tr>\n",
       "    <tr>\n",
       "      <th>Test Average Precision</th>\n",
       "      <td>30.80%</td>\n",
       "    </tr>\n",
       "    <tr>\n",
       "      <th>Test Average F1 Score</th>\n",
       "      <td>23.08%</td>\n",
       "    </tr>\n",
       "  </tbody>\n",
       "</table>\n",
       "</div>"
      ],
      "text/plain": [
       "                        MORD Ridge \n",
       "Train Accuracy               32.67%\n",
       "Train Average Recall         25.65%\n",
       "Train Average Precision      36.11%\n",
       "Train Average F1 Score       28.10%\n",
       "Test Accuracy                29.96%\n",
       "Test Average Recall          22.44%\n",
       "Test Average Precision       30.80%\n",
       "Test Average F1 Score        23.08%"
      ]
     },
     "execution_count": 67,
     "metadata": {},
     "output_type": "execute_result"
    }
   ],
   "source": [
    "mord_ridge_scores = get_quality_scores(mord_ridge_cv,'MORD Ridge ', X_train, X_test,y_train, y_test)\n",
    "mord_ridge_scores"
   ]
  },
  {
   "cell_type": "code",
   "execution_count": 68,
   "metadata": {},
   "outputs": [
    {
     "data": {
      "image/png": "[encoded data removed]",
      "text/plain": [
       "<Figure size 720x504 with 2 Axes>"
      ]
     },
     "metadata": {
      "needs_background": "light"
     },
     "output_type": "display_data"
    }
   ],
   "source": [
    "fig_cm_mord_ridge = plot_confusion_matrix(mord_ridge_cv, X_test, y_test, title='MORD Ridge Confusion Matrix', class_names=new_class_names);\n",
    "fig_cm_mord_ridge.savefig('data/mord_ridge_confusion_matrix')"
   ]
  },
  {
   "cell_type": "markdown",
   "metadata": {},
   "source": [
    "# Annex"
   ]
  },
  {
   "cell_type": "markdown",
   "metadata": {},
   "source": [
    "## Logistic Regression with cross validated hyper parameters"
   ]
  },
  {
   "cell_type": "code",
   "execution_count": null,
   "metadata": {},
   "outputs": [],
   "source": []
  },
  {
   "cell_type": "code",
   "execution_count": null,
   "metadata": {},
   "outputs": [],
   "source": []
  },
  {
   "cell_type": "code",
   "execution_count": null,
   "metadata": {},
   "outputs": [],
   "source": []
  }
 ],
 "metadata": {
  "kernelspec": {
   "display_name": "Python 3",
   "language": "python",
   "name": "python3"
  },
  "language_info": {
   "codemirror_mode": {
    "name": "ipython",
    "version": 3
   },
   "file_extension": ".py",
   "mimetype": "text/x-python",
   "name": "python",
   "nbconvert_exporter": "python",
   "pygments_lexer": "ipython3",
   "version": "3.7.6"
  }
 },
 "nbformat": 4,
 "nbformat_minor": 2
}
