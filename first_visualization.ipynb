{
 "cells": [
  {
   "cell_type": "code",
   "execution_count": 1,
   "metadata": {},
   "outputs": [],
   "source": [
    "import numpy as np\n",
    "import pandas as pd\n",
    "from datetime import datetime\n",
    "pd.DataFrame(data=None, index=None, columns=None, dtype=None, copy=False)\n",
    "import matplotlib.pyplot as plt\n",
    "import matplotlib as mp\n",
    "import seaborn as sns\n",
    "import matplotlib.backends.backend_pdf as mbbp\n",
    "from sklearn.linear_model import LogisticRegression\n",
    "from matplotlib.backends.backend_pdf import PdfPages\n",
    "import tad.anomaly_detect_ts\n",
    "from sklearn.linear_model import LogisticRegression\n",
    "import re"
   ]
  },
  {
   "cell_type": "markdown",
   "metadata": {},
   "source": [
    "# QUANTITATIVE FINANCIAL ANALYSIS\n",
    "\n",
    "This notebook explores the possibilities of quantiative techniques in financial analysis. The main goal will be to forecast the evolution of the rating of a company with respect to their current and past financial statements. To achieve this goal, different steps will be performed :\n",
    "* Data importing\n",
    "* Data cleaning\n",
    "* Data visualisation\n",
    "* Feature engineering\n",
    "* Machine learning"
   ]
  },
  {
   "cell_type": "markdown",
   "metadata": {},
   "source": [
    "# Data Visualisation"
   ]
  },
  {
   "cell_type": "markdown",
   "metadata": {},
   "source": [
    "## I - Import data\n",
    "\n",
    "The data is a CSV file. So, in order to use it we have to first, import the data in a dataframe, using 'read_csv'."
   ]
  },
  {
   "cell_type": "code",
   "execution_count": 36,
   "metadata": {
    "jupyter": {
     "outputs_hidden": true
    }
   },
   "outputs": [
    {
     "data": {
      "text/html": [
       "<div>\n",
       "<style scoped>\n",
       "    .dataframe tbody tr th:only-of-type {\n",
       "        vertical-align: middle;\n",
       "    }\n",
       "\n",
       "    .dataframe tbody tr th {\n",
       "        vertical-align: top;\n",
       "    }\n",
       "\n",
       "    .dataframe thead th {\n",
       "        text-align: right;\n",
       "    }\n",
       "</style>\n",
       "<table border=\"1\" class=\"dataframe\">\n",
       "  <thead>\n",
       "    <tr style=\"text-align: right;\">\n",
       "      <th></th>\n",
       "      <th></th>\n",
       "      <th>ALTMAN_Z_SCORE</th>\n",
       "      <th>ARD_COST_OF_GOODS_SOLD</th>\n",
       "      <th>BOOK_VAL_PER_SH</th>\n",
       "      <th>BS_ACCOUNTS_PAYABLE_AND_ACCRUALS</th>\n",
       "      <th>BS_ACCT_NOTE_RCV</th>\n",
       "      <th>BS_CASH_NEAR_CASH_ITEM</th>\n",
       "      <th>BS_CUR_ASSET_REPORT</th>\n",
       "      <th>BS_CUR_LIAB</th>\n",
       "      <th>BS_INVENTORIES</th>\n",
       "      <th>BS_LT_BORROW</th>\n",
       "      <th>...</th>\n",
       "      <th>RTG_FITCH_LT_ISSUER_DFLT_RTG_DT</th>\n",
       "      <th>RTG_FITCH_OUTLOOK</th>\n",
       "      <th>RTG_FITCH_OUTLOOK_DT</th>\n",
       "      <th>RTG_MDY_OUTLOOK</th>\n",
       "      <th>RTG_MOODY_LONG_TERM</th>\n",
       "      <th>RTG_MOODY_LONG_TERM_DATE</th>\n",
       "      <th>RTG_SP_LT_LC_ISSUER_CREDIT</th>\n",
       "      <th>RTG_SP_LT_LC_ISS_CRED_RTG_DT</th>\n",
       "      <th>RTG_SP_OUTLOOK</th>\n",
       "      <th>RTG_SP_OUTLOOK_DT</th>\n",
       "    </tr>\n",
       "    <tr>\n",
       "      <th>ticker</th>\n",
       "      <th>date</th>\n",
       "      <th></th>\n",
       "      <th></th>\n",
       "      <th></th>\n",
       "      <th></th>\n",
       "      <th></th>\n",
       "      <th></th>\n",
       "      <th></th>\n",
       "      <th></th>\n",
       "      <th></th>\n",
       "      <th></th>\n",
       "      <th></th>\n",
       "      <th></th>\n",
       "      <th></th>\n",
       "      <th></th>\n",
       "      <th></th>\n",
       "      <th></th>\n",
       "      <th></th>\n",
       "      <th></th>\n",
       "      <th></th>\n",
       "      <th></th>\n",
       "      <th></th>\n",
       "    </tr>\n",
       "  </thead>\n",
       "  <tbody>\n",
       "    <tr>\n",
       "      <th>EIG LN Equity</th>\n",
       "      <th>1999-12-31</th>\n",
       "      <td>NaN</td>\n",
       "      <td>NaN</td>\n",
       "      <td>NaN</td>\n",
       "      <td>NaN</td>\n",
       "      <td>NaN</td>\n",
       "      <td>NaN</td>\n",
       "      <td>NaN</td>\n",
       "      <td>NaN</td>\n",
       "      <td>NaN</td>\n",
       "      <td>NaN</td>\n",
       "      <td>...</td>\n",
       "      <td>NaN</td>\n",
       "      <td>NaN</td>\n",
       "      <td>NaN</td>\n",
       "      <td>NaN</td>\n",
       "      <td>NaN</td>\n",
       "      <td>NaN</td>\n",
       "      <td>NaN</td>\n",
       "      <td>NaN</td>\n",
       "      <td>NaN</td>\n",
       "      <td>NaN</td>\n",
       "    </tr>\n",
       "    <tr>\n",
       "      <th>EKTAB SS Equity</th>\n",
       "      <th>1999-12-31</th>\n",
       "      <td>NaN</td>\n",
       "      <td>NaN</td>\n",
       "      <td>NaN</td>\n",
       "      <td>NaN</td>\n",
       "      <td>NaN</td>\n",
       "      <td>NaN</td>\n",
       "      <td>NaN</td>\n",
       "      <td>NaN</td>\n",
       "      <td>NaN</td>\n",
       "      <td>NaN</td>\n",
       "      <td>...</td>\n",
       "      <td>NaN</td>\n",
       "      <td>NaN</td>\n",
       "      <td>NaN</td>\n",
       "      <td>NaN</td>\n",
       "      <td>NaN</td>\n",
       "      <td>NaN</td>\n",
       "      <td>NaN</td>\n",
       "      <td>NaN</td>\n",
       "      <td>NaN</td>\n",
       "      <td>NaN</td>\n",
       "    </tr>\n",
       "    <tr>\n",
       "      <th>EL FP Equity</th>\n",
       "      <th>1999-12-31</th>\n",
       "      <td>NaN</td>\n",
       "      <td>NaN</td>\n",
       "      <td>NaN</td>\n",
       "      <td>NaN</td>\n",
       "      <td>NaN</td>\n",
       "      <td>NaN</td>\n",
       "      <td>NaN</td>\n",
       "      <td>NaN</td>\n",
       "      <td>NaN</td>\n",
       "      <td>NaN</td>\n",
       "      <td>...</td>\n",
       "      <td>NaN</td>\n",
       "      <td>NaN</td>\n",
       "      <td>NaN</td>\n",
       "      <td>NaN</td>\n",
       "      <td>NaN</td>\n",
       "      <td>NaN</td>\n",
       "      <td>NaN</td>\n",
       "      <td>NaN</td>\n",
       "      <td>NaN</td>\n",
       "      <td>NaN</td>\n",
       "    </tr>\n",
       "    <tr>\n",
       "      <th>ELE SM EQUITY</th>\n",
       "      <th>1999-12-31</th>\n",
       "      <td>NaN</td>\n",
       "      <td>NaN</td>\n",
       "      <td>8.7996</td>\n",
       "      <td>NaN</td>\n",
       "      <td>NaN</td>\n",
       "      <td>NaN</td>\n",
       "      <td>6403.0327</td>\n",
       "      <td>9904.8838</td>\n",
       "      <td>NaN</td>\n",
       "      <td>18550.6834</td>\n",
       "      <td>...</td>\n",
       "      <td>1999-09-08</td>\n",
       "      <td>NaN</td>\n",
       "      <td>NaN</td>\n",
       "      <td>NaN</td>\n",
       "      <td>NaN</td>\n",
       "      <td>NaN</td>\n",
       "      <td>A+</td>\n",
       "      <td>1999-08-23</td>\n",
       "      <td>NaN</td>\n",
       "      <td>NaN</td>\n",
       "    </tr>\n",
       "    <tr>\n",
       "      <th>ELI BB Equity</th>\n",
       "      <th>1999-12-31</th>\n",
       "      <td>NaN</td>\n",
       "      <td>NaN</td>\n",
       "      <td>NaN</td>\n",
       "      <td>NaN</td>\n",
       "      <td>NaN</td>\n",
       "      <td>NaN</td>\n",
       "      <td>NaN</td>\n",
       "      <td>NaN</td>\n",
       "      <td>NaN</td>\n",
       "      <td>NaN</td>\n",
       "      <td>...</td>\n",
       "      <td>NaN</td>\n",
       "      <td>NaN</td>\n",
       "      <td>NaN</td>\n",
       "      <td>NaN</td>\n",
       "      <td>NaN</td>\n",
       "      <td>NaN</td>\n",
       "      <td>NaN</td>\n",
       "      <td>NaN</td>\n",
       "      <td>NaN</td>\n",
       "      <td>NaN</td>\n",
       "    </tr>\n",
       "    <tr>\n",
       "      <th>...</th>\n",
       "      <th>...</th>\n",
       "      <td>...</td>\n",
       "      <td>...</td>\n",
       "      <td>...</td>\n",
       "      <td>...</td>\n",
       "      <td>...</td>\n",
       "      <td>...</td>\n",
       "      <td>...</td>\n",
       "      <td>...</td>\n",
       "      <td>...</td>\n",
       "      <td>...</td>\n",
       "      <td>...</td>\n",
       "      <td>...</td>\n",
       "      <td>...</td>\n",
       "      <td>...</td>\n",
       "      <td>...</td>\n",
       "      <td>...</td>\n",
       "      <td>...</td>\n",
       "      <td>...</td>\n",
       "      <td>...</td>\n",
       "      <td>...</td>\n",
       "      <td>...</td>\n",
       "    </tr>\n",
       "    <tr>\n",
       "      <th>HFG GR Equity</th>\n",
       "      <th>2020-03-31</th>\n",
       "      <td>NaN</td>\n",
       "      <td>NaN</td>\n",
       "      <td>NaN</td>\n",
       "      <td>NaN</td>\n",
       "      <td>NaN</td>\n",
       "      <td>NaN</td>\n",
       "      <td>NaN</td>\n",
       "      <td>NaN</td>\n",
       "      <td>NaN</td>\n",
       "      <td>NaN</td>\n",
       "      <td>...</td>\n",
       "      <td>NaN</td>\n",
       "      <td>NaN</td>\n",
       "      <td>NaN</td>\n",
       "      <td>NaN</td>\n",
       "      <td>NaN</td>\n",
       "      <td>NaN</td>\n",
       "      <td>NaN</td>\n",
       "      <td>NaN</td>\n",
       "      <td>NaN</td>\n",
       "      <td>NaN</td>\n",
       "    </tr>\n",
       "    <tr>\n",
       "      <th>HIBU LN Equity</th>\n",
       "      <th>2020-03-31</th>\n",
       "      <td>NaN</td>\n",
       "      <td>NaN</td>\n",
       "      <td>NaN</td>\n",
       "      <td>NaN</td>\n",
       "      <td>NaN</td>\n",
       "      <td>NaN</td>\n",
       "      <td>NaN</td>\n",
       "      <td>NaN</td>\n",
       "      <td>NaN</td>\n",
       "      <td>NaN</td>\n",
       "      <td>...</td>\n",
       "      <td>NaN</td>\n",
       "      <td>NaN</td>\n",
       "      <td>NaN</td>\n",
       "      <td>NaN</td>\n",
       "      <td>NaN</td>\n",
       "      <td>NaN</td>\n",
       "      <td>NaN</td>\n",
       "      <td>NaN</td>\n",
       "      <td>NaN</td>\n",
       "      <td>NaN</td>\n",
       "    </tr>\n",
       "    <tr>\n",
       "      <th>HLAG GR Equity</th>\n",
       "      <th>2020-03-31</th>\n",
       "      <td>NaN</td>\n",
       "      <td>NaN</td>\n",
       "      <td>NaN</td>\n",
       "      <td>NaN</td>\n",
       "      <td>NaN</td>\n",
       "      <td>NaN</td>\n",
       "      <td>NaN</td>\n",
       "      <td>NaN</td>\n",
       "      <td>NaN</td>\n",
       "      <td>NaN</td>\n",
       "      <td>...</td>\n",
       "      <td>NaN</td>\n",
       "      <td>NaN</td>\n",
       "      <td>NaN</td>\n",
       "      <td>NaN</td>\n",
       "      <td>NaN</td>\n",
       "      <td>NaN</td>\n",
       "      <td>NaN</td>\n",
       "      <td>NaN</td>\n",
       "      <td>NaN</td>\n",
       "      <td>NaN</td>\n",
       "    </tr>\n",
       "    <tr>\n",
       "      <th>HLE GR Equity</th>\n",
       "      <th>2020-03-31</th>\n",
       "      <td>3.1028</td>\n",
       "      <td>NaN</td>\n",
       "      <td>NaN</td>\n",
       "      <td>NaN</td>\n",
       "      <td>NaN</td>\n",
       "      <td>NaN</td>\n",
       "      <td>NaN</td>\n",
       "      <td>NaN</td>\n",
       "      <td>NaN</td>\n",
       "      <td>NaN</td>\n",
       "      <td>...</td>\n",
       "      <td>NaN</td>\n",
       "      <td>NaN</td>\n",
       "      <td>NaN</td>\n",
       "      <td>NaN</td>\n",
       "      <td>NaN</td>\n",
       "      <td>NaN</td>\n",
       "      <td>NaN</td>\n",
       "      <td>NaN</td>\n",
       "      <td>NaN</td>\n",
       "      <td>NaN</td>\n",
       "    </tr>\n",
       "    <tr>\n",
       "      <th>HLMA LN Equity</th>\n",
       "      <th>2020-03-31</th>\n",
       "      <td>NaN</td>\n",
       "      <td>NaN</td>\n",
       "      <td>NaN</td>\n",
       "      <td>NaN</td>\n",
       "      <td>NaN</td>\n",
       "      <td>NaN</td>\n",
       "      <td>NaN</td>\n",
       "      <td>NaN</td>\n",
       "      <td>NaN</td>\n",
       "      <td>NaN</td>\n",
       "      <td>...</td>\n",
       "      <td>NaN</td>\n",
       "      <td>NaN</td>\n",
       "      <td>NaN</td>\n",
       "      <td>NaN</td>\n",
       "      <td>NaN</td>\n",
       "      <td>NaN</td>\n",
       "      <td>NaN</td>\n",
       "      <td>NaN</td>\n",
       "      <td>NaN</td>\n",
       "      <td>NaN</td>\n",
       "    </tr>\n",
       "  </tbody>\n",
       "</table>\n",
       "<p>9823 rows × 60 columns</p>\n",
       "</div>"
      ],
      "text/plain": [
       "                            ALTMAN_Z_SCORE  ARD_COST_OF_GOODS_SOLD  \\\n",
       "ticker          date                                                 \n",
       "EIG LN Equity   1999-12-31             NaN                     NaN   \n",
       "EKTAB SS Equity 1999-12-31             NaN                     NaN   \n",
       "EL FP Equity    1999-12-31             NaN                     NaN   \n",
       "ELE SM EQUITY   1999-12-31             NaN                     NaN   \n",
       "ELI BB Equity   1999-12-31             NaN                     NaN   \n",
       "...                                    ...                     ...   \n",
       "HFG GR Equity   2020-03-31             NaN                     NaN   \n",
       "HIBU LN Equity  2020-03-31             NaN                     NaN   \n",
       "HLAG GR Equity  2020-03-31             NaN                     NaN   \n",
       "HLE GR Equity   2020-03-31          3.1028                     NaN   \n",
       "HLMA LN Equity  2020-03-31             NaN                     NaN   \n",
       "\n",
       "                            BOOK_VAL_PER_SH  BS_ACCOUNTS_PAYABLE_AND_ACCRUALS  \\\n",
       "ticker          date                                                            \n",
       "EIG LN Equity   1999-12-31              NaN                               NaN   \n",
       "EKTAB SS Equity 1999-12-31              NaN                               NaN   \n",
       "EL FP Equity    1999-12-31              NaN                               NaN   \n",
       "ELE SM EQUITY   1999-12-31           8.7996                               NaN   \n",
       "ELI BB Equity   1999-12-31              NaN                               NaN   \n",
       "...                                     ...                               ...   \n",
       "HFG GR Equity   2020-03-31              NaN                               NaN   \n",
       "HIBU LN Equity  2020-03-31              NaN                               NaN   \n",
       "HLAG GR Equity  2020-03-31              NaN                               NaN   \n",
       "HLE GR Equity   2020-03-31              NaN                               NaN   \n",
       "HLMA LN Equity  2020-03-31              NaN                               NaN   \n",
       "\n",
       "                            BS_ACCT_NOTE_RCV  BS_CASH_NEAR_CASH_ITEM  \\\n",
       "ticker          date                                                   \n",
       "EIG LN Equity   1999-12-31               NaN                     NaN   \n",
       "EKTAB SS Equity 1999-12-31               NaN                     NaN   \n",
       "EL FP Equity    1999-12-31               NaN                     NaN   \n",
       "ELE SM EQUITY   1999-12-31               NaN                     NaN   \n",
       "ELI BB Equity   1999-12-31               NaN                     NaN   \n",
       "...                                      ...                     ...   \n",
       "HFG GR Equity   2020-03-31               NaN                     NaN   \n",
       "HIBU LN Equity  2020-03-31               NaN                     NaN   \n",
       "HLAG GR Equity  2020-03-31               NaN                     NaN   \n",
       "HLE GR Equity   2020-03-31               NaN                     NaN   \n",
       "HLMA LN Equity  2020-03-31               NaN                     NaN   \n",
       "\n",
       "                            BS_CUR_ASSET_REPORT  BS_CUR_LIAB  BS_INVENTORIES  \\\n",
       "ticker          date                                                           \n",
       "EIG LN Equity   1999-12-31                  NaN          NaN             NaN   \n",
       "EKTAB SS Equity 1999-12-31                  NaN          NaN             NaN   \n",
       "EL FP Equity    1999-12-31                  NaN          NaN             NaN   \n",
       "ELE SM EQUITY   1999-12-31            6403.0327    9904.8838             NaN   \n",
       "ELI BB Equity   1999-12-31                  NaN          NaN             NaN   \n",
       "...                                         ...          ...             ...   \n",
       "HFG GR Equity   2020-03-31                  NaN          NaN             NaN   \n",
       "HIBU LN Equity  2020-03-31                  NaN          NaN             NaN   \n",
       "HLAG GR Equity  2020-03-31                  NaN          NaN             NaN   \n",
       "HLE GR Equity   2020-03-31                  NaN          NaN             NaN   \n",
       "HLMA LN Equity  2020-03-31                  NaN          NaN             NaN   \n",
       "\n",
       "                            BS_LT_BORROW  ...  \\\n",
       "ticker          date                      ...   \n",
       "EIG LN Equity   1999-12-31           NaN  ...   \n",
       "EKTAB SS Equity 1999-12-31           NaN  ...   \n",
       "EL FP Equity    1999-12-31           NaN  ...   \n",
       "ELE SM EQUITY   1999-12-31    18550.6834  ...   \n",
       "ELI BB Equity   1999-12-31           NaN  ...   \n",
       "...                                  ...  ...   \n",
       "HFG GR Equity   2020-03-31           NaN  ...   \n",
       "HIBU LN Equity  2020-03-31           NaN  ...   \n",
       "HLAG GR Equity  2020-03-31           NaN  ...   \n",
       "HLE GR Equity   2020-03-31           NaN  ...   \n",
       "HLMA LN Equity  2020-03-31           NaN  ...   \n",
       "\n",
       "                            RTG_FITCH_LT_ISSUER_DFLT_RTG_DT  \\\n",
       "ticker          date                                          \n",
       "EIG LN Equity   1999-12-31                              NaN   \n",
       "EKTAB SS Equity 1999-12-31                              NaN   \n",
       "EL FP Equity    1999-12-31                              NaN   \n",
       "ELE SM EQUITY   1999-12-31                       1999-09-08   \n",
       "ELI BB Equity   1999-12-31                              NaN   \n",
       "...                                                     ...   \n",
       "HFG GR Equity   2020-03-31                              NaN   \n",
       "HIBU LN Equity  2020-03-31                              NaN   \n",
       "HLAG GR Equity  2020-03-31                              NaN   \n",
       "HLE GR Equity   2020-03-31                              NaN   \n",
       "HLMA LN Equity  2020-03-31                              NaN   \n",
       "\n",
       "                            RTG_FITCH_OUTLOOK  RTG_FITCH_OUTLOOK_DT  \\\n",
       "ticker          date                                                  \n",
       "EIG LN Equity   1999-12-31                NaN                   NaN   \n",
       "EKTAB SS Equity 1999-12-31                NaN                   NaN   \n",
       "EL FP Equity    1999-12-31                NaN                   NaN   \n",
       "ELE SM EQUITY   1999-12-31                NaN                   NaN   \n",
       "ELI BB Equity   1999-12-31                NaN                   NaN   \n",
       "...                                       ...                   ...   \n",
       "HFG GR Equity   2020-03-31                NaN                   NaN   \n",
       "HIBU LN Equity  2020-03-31                NaN                   NaN   \n",
       "HLAG GR Equity  2020-03-31                NaN                   NaN   \n",
       "HLE GR Equity   2020-03-31                NaN                   NaN   \n",
       "HLMA LN Equity  2020-03-31                NaN                   NaN   \n",
       "\n",
       "                            RTG_MDY_OUTLOOK  RTG_MOODY_LONG_TERM  \\\n",
       "ticker          date                                               \n",
       "EIG LN Equity   1999-12-31              NaN                  NaN   \n",
       "EKTAB SS Equity 1999-12-31              NaN                  NaN   \n",
       "EL FP Equity    1999-12-31              NaN                  NaN   \n",
       "ELE SM EQUITY   1999-12-31              NaN                  NaN   \n",
       "ELI BB Equity   1999-12-31              NaN                  NaN   \n",
       "...                                     ...                  ...   \n",
       "HFG GR Equity   2020-03-31              NaN                  NaN   \n",
       "HIBU LN Equity  2020-03-31              NaN                  NaN   \n",
       "HLAG GR Equity  2020-03-31              NaN                  NaN   \n",
       "HLE GR Equity   2020-03-31              NaN                  NaN   \n",
       "HLMA LN Equity  2020-03-31              NaN                  NaN   \n",
       "\n",
       "                            RTG_MOODY_LONG_TERM_DATE  \\\n",
       "ticker          date                                   \n",
       "EIG LN Equity   1999-12-31                       NaN   \n",
       "EKTAB SS Equity 1999-12-31                       NaN   \n",
       "EL FP Equity    1999-12-31                       NaN   \n",
       "ELE SM EQUITY   1999-12-31                       NaN   \n",
       "ELI BB Equity   1999-12-31                       NaN   \n",
       "...                                              ...   \n",
       "HFG GR Equity   2020-03-31                       NaN   \n",
       "HIBU LN Equity  2020-03-31                       NaN   \n",
       "HLAG GR Equity  2020-03-31                       NaN   \n",
       "HLE GR Equity   2020-03-31                       NaN   \n",
       "HLMA LN Equity  2020-03-31                       NaN   \n",
       "\n",
       "                            RTG_SP_LT_LC_ISSUER_CREDIT  \\\n",
       "ticker          date                                     \n",
       "EIG LN Equity   1999-12-31                         NaN   \n",
       "EKTAB SS Equity 1999-12-31                         NaN   \n",
       "EL FP Equity    1999-12-31                         NaN   \n",
       "ELE SM EQUITY   1999-12-31                          A+   \n",
       "ELI BB Equity   1999-12-31                         NaN   \n",
       "...                                                ...   \n",
       "HFG GR Equity   2020-03-31                         NaN   \n",
       "HIBU LN Equity  2020-03-31                         NaN   \n",
       "HLAG GR Equity  2020-03-31                         NaN   \n",
       "HLE GR Equity   2020-03-31                         NaN   \n",
       "HLMA LN Equity  2020-03-31                         NaN   \n",
       "\n",
       "                            RTG_SP_LT_LC_ISS_CRED_RTG_DT  RTG_SP_OUTLOOK  \\\n",
       "ticker          date                                                       \n",
       "EIG LN Equity   1999-12-31                           NaN             NaN   \n",
       "EKTAB SS Equity 1999-12-31                           NaN             NaN   \n",
       "EL FP Equity    1999-12-31                           NaN             NaN   \n",
       "ELE SM EQUITY   1999-12-31                    1999-08-23             NaN   \n",
       "ELI BB Equity   1999-12-31                           NaN             NaN   \n",
       "...                                                  ...             ...   \n",
       "HFG GR Equity   2020-03-31                           NaN             NaN   \n",
       "HIBU LN Equity  2020-03-31                           NaN             NaN   \n",
       "HLAG GR Equity  2020-03-31                           NaN             NaN   \n",
       "HLE GR Equity   2020-03-31                           NaN             NaN   \n",
       "HLMA LN Equity  2020-03-31                           NaN             NaN   \n",
       "\n",
       "                            RTG_SP_OUTLOOK_DT  \n",
       "ticker          date                           \n",
       "EIG LN Equity   1999-12-31                NaN  \n",
       "EKTAB SS Equity 1999-12-31                NaN  \n",
       "EL FP Equity    1999-12-31                NaN  \n",
       "ELE SM EQUITY   1999-12-31                NaN  \n",
       "ELI BB Equity   1999-12-31                NaN  \n",
       "...                                       ...  \n",
       "HFG GR Equity   2020-03-31                NaN  \n",
       "HIBU LN Equity  2020-03-31                NaN  \n",
       "HLAG GR Equity  2020-03-31                NaN  \n",
       "HLE GR Equity   2020-03-31                NaN  \n",
       "HLMA LN Equity  2020-03-31                NaN  \n",
       "\n",
       "[9823 rows x 60 columns]"
      ]
     },
     "execution_count": 36,
     "metadata": {},
     "output_type": "execute_result"
    }
   ],
   "source": [
    "# Data Importation\n",
    "df_data = pd.read_csv('recup_history_4.csv',sep=',', parse_dates= True)\n",
    "df_data['date']=pd.to_datetime(df_data['date'])\n",
    "#df_data['RTG_SP_LT_LC_ISS_CRED_RTG_DT'] = pd.to_datetime(df_data['RTG_SP_LT_LC_ISS_CRED_RTG_DT'])\n",
    "new_df = df_data\n",
    "df_data.set_index(['ticker','date'], inplace = True)\n",
    "df_data"
   ]
  },
  {
   "cell_type": "code",
   "execution_count": 37,
   "metadata": {},
   "outputs": [],
   "source": [
    "list_company = df_data.index.get_level_values(0).unique().to_list()\n",
    "list_dates = df_data.index.get_level_values(1).unique().to_list()"
   ]
  },
  {
   "cell_type": "markdown",
   "metadata": {},
   "source": [
    "## II - Data Cleaning"
   ]
  },
  {
   "cell_type": "markdown",
   "metadata": {},
   "source": [
    "### 1- Clean dates\n",
    "The data we use were observed quaterly between 1999 and 2019. \n",
    "However in the data, instead of having one date for a quater, we have two or three dates.\n",
    "The goal here is to keep the latest date and drop the others."
   ]
  },
  {
   "cell_type": "code",
   "execution_count": 38,
   "metadata": {},
   "outputs": [],
   "source": [
    "def fill_forward(df):\n",
    "    \"\"\" fills missing data with last available data\n",
    "    \"\"\"\n",
    "    df.fillna(method = 'ffill', inplace = True)\n",
    "fill_forward(df_data)"
   ]
  },
  {
   "cell_type": "code",
   "execution_count": 39,
   "metadata": {},
   "outputs": [],
   "source": [
    "def keep_end_of_month_dates(df):\n",
    "    \"\"\" remove not end of month\n",
    "    \"\"\"\n",
    "    list_dates = df.index.get_level_values(1).unique().to_list()\n",
    "    end_month_dates = [d for d in list_dates if d.is_month_end]\n",
    "    df.drop(index=[d for d in list_dates if not(d.is_month_end)], level=1,inplace=True)\n",
    "\n",
    "keep_end_of_month_dates(df_data)"
   ]
  },
  {
   "cell_type": "code",
   "execution_count": 40,
   "metadata": {},
   "outputs": [],
   "source": [
    "def remove_first_dates(df):\n",
    "    \"\"\" remove dates with a lot of missing values\n",
    "    \"\"\"\n",
    "    df.drop(index=[datetime(1999,12,31),datetime(2000,3,31),datetime(2000,6,30),datetime(2000,9,30),datetime(2000,12,31)], inplace = True, level=1)\n",
    "remove_first_dates(df_data)"
   ]
  },
  {
   "cell_type": "code",
   "execution_count": 41,
   "metadata": {},
   "outputs": [],
   "source": [
    "def remove_ill_companies(df):\n",
    "    df.drop(index=['ITX SQ Equity', 'NOBINA SS Equity', 'LIN GY Equity', 'CS FP Equity','OR FP Equity'],inplace = True,level=0)\n",
    "#remove_ill_companies(df_data)"
   ]
  },
  {
   "cell_type": "markdown",
   "metadata": {},
   "source": [
    "### 2- NA Cleaning\n",
    "\n",
    "In this part is to compute by company, features and dates, the number of NaN(empty data). \n",
    "The goal is to drop company, features or dates with a high percent of empty which make them useless."
   ]
  },
  {
   "cell_type": "code",
   "execution_count": 42,
   "metadata": {
    "jupyter": {
     "outputs_hidden": true
    },
    "scrolled": true
   },
   "outputs": [
    {
     "data": {
      "text/plain": [
       "RTG_MOODY_LONG_TERM_DATE            0.788076\n",
       "RTG_MOODY_LONG_TERM                 0.788076\n",
       "RTG_FITCH_OUTLOOK_DT                0.656434\n",
       "RTG_FITCH_OUTLOOK                   0.656434\n",
       "RTG_SP_OUTLOOK_DT                   0.517414\n",
       "RTG_SP_OUTLOOK                      0.517414\n",
       "BS_ACCOUNTS_PAYABLE_AND_ACCRUALS    0.335891\n",
       "BS_TOTAL_LIABILITIES                0.335891\n",
       "RTG_MDY_OUTLOOK                     0.071576\n",
       "ALTMAN_Z_SCORE                      0.000590\n",
       "APPLIED_BETA                        0.000148\n",
       "ARD_COST_OF_GOODS_SOLD              0.000148\n",
       "WACC_RETURN_ON_INV_CAPITAL          0.000148\n",
       "WACC_NOPAT                          0.000148\n",
       "WACC                                0.000148\n",
       "BS_NET_FIX_ASSET                    0.000000\n",
       "EARN_YLD                            0.000000\n",
       "CF_FREE_CASH_FLOW                   0.000000\n",
       "CF_CASH_FROM_OPER                   0.000000\n",
       "CASH_AND_MARKETABLE_SECURITIES      0.000000\n",
       "CAPITAL_EXPEND                      0.000000\n",
       "BS_TOT_ASSET                        0.000000\n",
       "RTG_SP_LT_LC_ISSUER_CREDIT          0.000000\n",
       "BS_ST_BORROW                        0.000000\n",
       "BS_SH_OUT                           0.000000\n",
       "BS_LT_BORROW                        0.000000\n",
       "BS_MKT_SEC_OTHER_ST_INVEST          0.000000\n",
       "EBITDA                              0.000000\n",
       "BS_INVENTORIES                      0.000000\n",
       "BS_CUR_LIAB                         0.000000\n",
       "BS_CUR_ASSET_REPORT                 0.000000\n",
       "BS_CASH_NEAR_CASH_ITEM              0.000000\n",
       "BS_ACCT_NOTE_RCV                    0.000000\n",
       "RTG_SP_LT_LC_ISS_CRED_RTG_DT        0.000000\n",
       "BOOK_VAL_PER_SH                     0.000000\n",
       "EBIT                                0.000000\n",
       "RTG_FITCH_LT_ISSUER_DEFAULT         0.000000\n",
       "IS_AVG_NUM_SH_FOR_EPS               0.000000\n",
       "NET_DEBT                            0.000000\n",
       "5Y_MID_CDS_SPREAD                   0.000000\n",
       "WORKING_CAPITAL                     0.000000\n",
       "VOLATILITY_360D                     0.000000\n",
       "TOT_COMMON_EQY                      0.000000\n",
       "TOTAL_EQUITY                        0.000000\n",
       "SALES_REV_TURN                      0.000000\n",
       "PX_LAST                             0.000000\n",
       "OTHER_CURRENT_LIABS_DETAILED        0.000000\n",
       "NET_INCOME                          0.000000\n",
       "IS_OPER_INC                         0.000000\n",
       "RSK_BB_ISSUER_DEFAULT               0.000000\n",
       "IS_INT_INC                          0.000000\n",
       "IS_INT_EXPENSE                      0.000000\n",
       "IS_EPS                              0.000000\n",
       "EQY_DVD_YLD_IND                     0.000000\n",
       "RTG_FITCH_LT_ISSUER_DFLT_RTG_DT     0.000000\n",
       "CUR_MKT_CAP                         0.000000\n",
       "BS_TOTAL_CAPITAL_LEASES             0.000000\n",
       "BEST_ANALYST_RATING                 0.000000\n",
       "BB_1YR_DEFAULT_PROB                 0.000000\n",
       "EQY_DPS                             0.000000\n",
       "dtype: float64"
      ]
     },
     "execution_count": 42,
     "metadata": {},
     "output_type": "execute_result"
    }
   ],
   "source": [
    "#Percent of NaN by features\n",
    "(df_data.isna().sum()/df_data.shape[0]).sort_values(ascending=False)"
   ]
  },
  {
   "cell_type": "markdown",
   "metadata": {},
   "source": [
    "--> control, if better features exist\n"
   ]
  },
  {
   "cell_type": "code",
   "execution_count": 43,
   "metadata": {
    "jupyter": {
     "outputs_hidden": true
    },
    "scrolled": true
   },
   "outputs": [
    {
     "data": {
      "text/plain": [
       "ticker\n",
       "HBH GR Equity      0.120741\n",
       "EKTAB SS Equity    0.108519\n",
       "GXI GR Equity      0.080556\n",
       "ELE SM EQUITY      0.069815\n",
       "EVD GR Equity      0.069630\n",
       "                     ...   \n",
       "FIN SW EQUITY      0.047593\n",
       "FI-N SW Equity     0.047593\n",
       "HFD LN Equity      0.046852\n",
       "HFG GR Equity      0.046852\n",
       "HLMA LN Equity     0.046852\n",
       "Length: 100, dtype: float64"
      ]
     },
     "execution_count": 43,
     "metadata": {},
     "output_type": "execute_result"
    }
   ],
   "source": [
    "#Percent of NaN by corporates\n",
    "(df_data.isna().sum(axis=1).groupby('ticker').sum()).sort_values(ascending=False)/5400"
   ]
  },
  {
   "cell_type": "code",
   "execution_count": 44,
   "metadata": {
    "scrolled": true
   },
   "outputs": [
    {
     "data": {
      "text/plain": [
       "date\n",
       "2001-12-31    0.178749\n",
       "2002-09-30    0.178749\n",
       "2002-12-31    0.178749\n",
       "2003-03-31    0.160278\n",
       "2007-12-31    0.158888\n",
       "                ...   \n",
       "2018-07-31    0.000000\n",
       "2018-08-31    0.000000\n",
       "2018-09-30    0.000000\n",
       "2018-10-31    0.000000\n",
       "2020-03-31    0.000000\n",
       "Length: 227, dtype: float64"
      ]
     },
     "execution_count": 44,
     "metadata": {},
     "output_type": "execute_result"
    }
   ],
   "source": [
    "#Percent de NaN by dates #95 rows * 53 columns = 5035\n",
    "((df_data.isna().sum(axis=1).groupby('date').sum()).sort_values(ascending=False)/5035)"
   ]
  },
  {
   "cell_type": "markdown",
   "metadata": {},
   "source": [
    "### 3- Format cleaning\n"
   ]
  },
  {
   "cell_type": "markdown",
   "metadata": {},
   "source": [
    "L'objectif de cette partie est de modifier certains formats d'importations qui pourraient nuire lors du traitement des données. Exemple: la présence d'espace dans les valeurs des données récupérées."
   ]
  },
  {
   "cell_type": "code",
   "execution_count": 45,
   "metadata": {},
   "outputs": [],
   "source": [
    "def remove_space(feature):\n",
    "    \"\"\"The function remove spaces in values of the feature in parameter\n",
    "    \"\"\"\n",
    "    df_data[feature] = df_data[feature].str.replace(\" \",\"\")\n",
    "    return df_data\n",
    "df_data = remove_space('RTG_SP_LT_LC_ISSUER_CREDIT')"
   ]
  },
  {
   "cell_type": "code",
   "execution_count": 77,
   "metadata": {
    "scrolled": true
   },
   "outputs": [
    {
     "data": {
      "text/plain": [
       "ticker            date      \n",
       "ENEL IM Equity    2001-12-31      A+*-\n",
       "ENG SM Equity     2001-12-31      A+*-\n",
       "EOAN GR Equity    2001-12-31      AA*-\n",
       "EPIA SS Equity    2001-12-31      AA*-\n",
       "HEI GR Equity     2001-12-31    BBB+*-\n",
       "                                 ...  \n",
       "FER SM Equity     2019-12-31      BBB*\n",
       "FORTUM FH EQUITY  2019-12-31     BBB*-\n",
       "FTI US Equity     2019-12-31    BBB+*-\n",
       "FUR NA Equity     2019-12-31    BBB+*-\n",
       "G1A GR Equity     2019-12-31    BBB+*-\n",
       "Name: RTG_SP_LT_LC_ISSUER_CREDIT, Length: 321, dtype: object"
      ]
     },
     "execution_count": 77,
     "metadata": {},
     "output_type": "execute_result"
    }
   ],
   "source": [
    "df_data[df_data['RTG_SP_LT_LC_ISSUER_CREDIT'].str.find(\"*\")!=-1]['RTG_SP_LT_LC_ISSUER_CREDIT']"
   ]
  },
  {
   "cell_type": "code",
   "execution_count": null,
   "metadata": {
    "scrolled": true
   },
   "outputs": [],
   "source": [
    "def remove_outlook(rating):\n",
    "    \"\"\"function created to correct sign problems in the ratings ex: AA+*-\n",
    "    \"\"\"\n",
    "    df_data[rating] = re.sub('*',\"\",df_data[rating])\n",
    "    \n",
    "df_data = remove_outlook('RTG_SP_LT_LC_ISSUER_CREDIT')"
   ]
  },
  {
   "cell_type": "code",
   "execution_count": 63,
   "metadata": {},
   "outputs": [
    {
     "data": {
      "text/plain": [
       "False"
      ]
     },
     "execution_count": 63,
     "metadata": {},
     "output_type": "execute_result"
    }
   ],
   "source": [
    "df=df_data.reset_index()\n",
    "'*' in df['RTG_SP_LT_LC_ISSUER_CREDIT']"
   ]
  },
  {
   "cell_type": "code",
   "execution_count": 74,
   "metadata": {
    "scrolled": true
   },
   "outputs": [
    {
     "data": {
      "text/plain": [
       "'AA-*-'"
      ]
     },
     "execution_count": 74,
     "metadata": {},
     "output_type": "execute_result"
    }
   ],
   "source": [
    "df_data.loc[('ENGI FP Equity',datetime(2006,3,31)),'RTG_SP_LT_LC_ISSUER_CREDIT']"
   ]
  },
  {
   "cell_type": "markdown",
   "metadata": {},
   "source": [
    "### 4- Outliers Detection\n",
    "\n",
    "This paragraph has as objective to detect and remove outliers in the data. These no reliable data, may be due to operational error in the data provider information systems or human error (big finger). Sophisticated statistical techniques exist to tackle this problem. Here we will use an implementation of the twitter library."
   ]
  },
  {
   "cell_type": "code",
   "execution_count": 15,
   "metadata": {
    "scrolled": true
   },
   "outputs": [],
   "source": [
    "def count_neg_values():\n",
    "    \"\"\"The function gives the number of negatives values by features\n",
    "    \"\"\"\n",
    "    numerical_features = list(df_data.columns[df_data.dtypes==np.float64])\n",
    "    no_neg_values =  df_data[numerical_features].lt(0).sum()\n",
    "    neg_value_percent = no_neg_values/df_data[numerical_features].count(0)*100\n",
    "    result = pd.concat([no_neg_values,neg_value_percent], axis=1)\n",
    "    return result\n",
    "neg_values = count_neg_values()\n",
    "neg_values"
   ]
  },
  {
   "cell_type": "code",
   "execution_count": 17,
   "metadata": {
    "scrolled": true
   },
   "outputs": [],
   "source": [
    "def save_result(df, name):\n",
    "    \"\"\"save the dataframe in parameter in an excel file named name\n",
    "    \"\"\"\n",
    "    df.to_excel(r'negative_values.xlsx', index = False, header=True)\n",
    "save_result(neg_values,'negative_values.xlsx')"
   ]
  },
  {
   "cell_type": "code",
   "execution_count": null,
   "metadata": {},
   "outputs": [],
   "source": [
    "\"\"\"the goal of this cell and the next one is to plot and save in pdf the evolution in time of the median of each feature\n",
    "\"\"\"\n",
    "numerical_features = list(df_data.columns[df_data.dtypes==np.float64])\n",
    "df = df_data[numerical_features].groupby('date').median()\n",
    "df"
   ]
  },
  {
   "cell_type": "code",
   "execution_count": null,
   "metadata": {
    "scrolled": false
   },
   "outputs": [],
   "source": [
    "pdf = mbbp.PdfPages(\"feature median plot.pdf\")\n",
    "for i,feature in enumerate(df.columns):\n",
    "    plt.figure(i)\n",
    "    df[feature].plot(title = feature)\n",
    "    pdf.savefig()\n",
    "pdf.close()"
   ]
  },
  {
   "cell_type": "code",
   "execution_count": 19,
   "metadata": {},
   "outputs": [],
   "source": [
    "def plot_filter(df_data, company_name, column_name):\n",
    "    \"\"\"plot the outliers detect by tad.anomaly_detect_ts for each company X feature by time\n",
    "    \"\"\"\n",
    "    data=df_data.fillna(0)\n",
    "    fig, ax = plt.subplots(1, 1, figsize=(15, 5))\n",
    "    ax.set_title('company: '+company_name +', feature: '+ column_name)\n",
    "    results = tad.anomaly_detect_ts(data.loc[(company_name,),column_name], max_anoms=0.05, alpha=0.001, direction='both', only_last=None)\n",
    "    df_data.loc[(company_name,),column_name].plot(color='blue', ax=ax)\n",
    "    if not results['anoms'].empty:\n",
    "        results['anoms'].plot(style='ro', ax=ax)\n",
    "    return fig, ax"
   ]
  },
  {
   "cell_type": "code",
   "execution_count": 21,
   "metadata": {},
   "outputs": [],
   "source": [
    "def plot_filter_median(df,column_name):\n",
    "    \"\"\"plot the outliers detect by tad.anomaly_detect_ts for each evolution of median feature by time\n",
    "    \"\"\"\n",
    "    data = df\n",
    "    fig, ax=plt.subplots(1, 1, figsize=(15, 5))\n",
    "    ax.set_title('feature: '+ column_name)\n",
    "    results = tad.anomaly_detect_ts(data[column_name], max_anoms=0.05, alpha=0.001, direction='both', only_last=None)\n",
    "    df[column_name].plot(color='blue', ax=ax)\n",
    "    if not results['anoms'].empty:\n",
    "        results['anoms'].plot(style='ro', ax=ax)\n",
    "    return fig, ax"
   ]
  },
  {
   "cell_type": "code",
   "execution_count": null,
   "metadata": {
    "scrolled": true
   },
   "outputs": [],
   "source": [
    "#list_companies = df_data.index.get_level_values(0).unique().to_list()\n",
    "pdf = mbbp.PdfPages(\"blablacar.pdf\")\n",
    "result =0\n",
    "#for company in list_companies[0:1]:\n",
    "for column_name in df.columns:\n",
    "    fig, ax = plot_filter_median(df, column_name)\n",
    "    pdf.savefig()\n",
    "    plt.close(fig)\n",
    "    result = result\n",
    "pdf.close()"
   ]
  },
  {
   "cell_type": "markdown",
   "metadata": {},
   "source": [
    "## III - Data Observation"
   ]
  },
  {
   "cell_type": "markdown",
   "metadata": {},
   "source": [
    "Detection of the redundant features\n",
    "\n",
    "Some features may be redundant when they are very similary. This redundancy may lead to the following issues :\n",
    "- instability of the calibration especially for linear learners\n",
    "- difficulty in explaining the role or true importance of each feature."
   ]
  },
  {
   "cell_type": "code",
   "execution_count": null,
   "metadata": {},
   "outputs": [],
   "source": [
    "numerics = ['int16', 'int32', 'int64', 'float16', 'float32', 'float64']\n",
    "df_median=df_data.select_dtypes(numerics).groupby('date').median()"
   ]
  },
  {
   "cell_type": "code",
   "execution_count": null,
   "metadata": {},
   "outputs": [],
   "source": [
    "from itertools import product\n",
    "from fastdtw import fastdtw\n",
    "from tslearn.metrics import cdist_dtw, dtw\n",
    "feature_similiraty = pd.DataFrame(0, index=df_median.columns, columns=df_median.columns)\n",
    "\n",
    "for feature1, feature2 in product(df_correlation.index, df_correlation.columns):\n",
    "    distance, path = fastdtw(df_median[feature1].values, df_median[feature2].values)\n",
    "    feature_similiraty.loc[feature1, feature2] = np.exp(-distance)"
   ]
  },
  {
   "cell_type": "code",
   "execution_count": null,
   "metadata": {},
   "outputs": [],
   "source": [
    "for feature1, feature2 in product(df_correlation.index, df_correlation.columns):\n",
    "    df_median[[feature1, feature2]].plot()"
   ]
  },
  {
   "cell_type": "code",
   "execution_count": null,
   "metadata": {},
   "outputs": [],
   "source": [
    "feature_similiraty"
   ]
  },
  {
   "cell_type": "code",
   "execution_count": null,
   "metadata": {},
   "outputs": [],
   "source": [
    "sns.heatmap(feature_similiraty)"
   ]
  },
  {
   "cell_type": "markdown",
   "metadata": {},
   "source": [
    "### 0- Distribution of features"
   ]
  },
  {
   "cell_type": "markdown",
   "metadata": {},
   "source": [
    "The goal of this part is to vizualise the distribution of the features"
   ]
  },
  {
   "cell_type": "code",
   "execution_count": null,
   "metadata": {
    "scrolled": false
   },
   "outputs": [],
   "source": [
    "df_data.loc[('BNP FP Equity',),'BB_1YR_DEFAULT_PROB']"
   ]
  },
  {
   "cell_type": "code",
   "execution_count": null,
   "metadata": {},
   "outputs": [],
   "source": [
    "df_data['BB_1YR_DEFAULT_PROB'].groupby('ticker').mean().plot()"
   ]
  },
  {
   "cell_type": "code",
   "execution_count": null,
   "metadata": {},
   "outputs": [],
   "source": [
    "\"\"\"plot and save feature X company by time\n",
    "\"\"\"\n",
    "i=1\n",
    "for feature in df_data.columns[0:1]:\n",
    "    pdf = mbbp.PdfPages(feature+\".pdf\")\n",
    "    for i,ticker in enumerate(list_company[0:2]):\n",
    "        plt.figure(i)\n",
    "        df_data.loc[(ticker,),feature].plot(title = ticker)\n",
    "        i=i+1\n",
    "        pdf.savefig()\n",
    "    pdf.close()"
   ]
  },
  {
   "cell_type": "code",
   "execution_count": null,
   "metadata": {},
   "outputs": [],
   "source": [
    "\"\"\"plot feature distribution by time \n",
    "\"\"\"\n",
    "pdf = mbbp.PdfPages(\"feature_by_time.pdf\")\n",
    "for i,feature in enumerate(df_data.select_dtypes(np.float64).columns):\n",
    "    plt.figure(i)\n",
    "    (df_data[feature].groupby('date').mean()).plot(title = feature + ' mean distribution by time')\n",
    "    pdf.savefig()\n",
    "pdf.close()"
   ]
  },
  {
   "cell_type": "code",
   "execution_count": null,
   "metadata": {},
   "outputs": [],
   "source": [
    "\"\"\"plot feature distribution by company\n",
    "\"\"\"\n",
    "pdf = mbbp.PdfPages(\"feature_by_company.pdf\")\n",
    "for i,feature in enumerate(df_data.select_dtypes(np.float64).columns):\n",
    "    plt.figure(i)\n",
    "    (df_data[feature].groupby('ticker').mean()).plot(title = feature + ' mean distribution by company')\n",
    "    pdf.savefig()\n",
    "pdf.close()"
   ]
  },
  {
   "cell_type": "code",
   "execution_count": null,
   "metadata": {
    "scrolled": false
   },
   "outputs": [],
   "source": [
    "#Example Violinplot \n",
    "#x= entreprises\n",
    "#y= altman_z_score\n",
    "sns.violinplot(x=df_data.index.get_level_values(0), y =df_data['ALTMAN_Z_SCORE'].interpolate(), figsize=(100,100))"
   ]
  },
  {
   "cell_type": "markdown",
   "metadata": {},
   "source": [
    "### 1- Heat map\n",
    "\n",
    "The features are less or highly correlated with each other. The idea is that the highly correlated features will generally explain the same aspect and so, just one feature is needed instead of two or three. So, to have this information we compute the correlation matrix of the features."
   ]
  },
  {
   "cell_type": "code",
   "execution_count": null,
   "metadata": {
    "scrolled": true
   },
   "outputs": [],
   "source": [
    "#1- Heat Map\n",
    "corr_mat=np.abs(df_data[df_data.select_dtypes(np.float64).columns].corr(method='spearman'))\n",
    "corr_mat"
   ]
  },
  {
   "cell_type": "code",
   "execution_count": null,
   "metadata": {
    "scrolled": true
   },
   "outputs": [],
   "source": [
    "corr_mat-np.dia"
   ]
  },
  {
   "cell_type": "code",
   "execution_count": null,
   "metadata": {},
   "outputs": [],
   "source": [
    "heatmap = sns.heatmap(corr_mat)"
   ]
  },
  {
   "cell_type": "markdown",
   "metadata": {},
   "source": [
    "dendogram"
   ]
  },
  {
   "cell_type": "markdown",
   "metadata": {},
   "source": [
    "### 2 - Rating encoding\n",
    "\n",
    "Encode rating with a score between 0 and 76. ex: AAA: 1, AA+: 4\n",
    "\n",
    "Add the column 'ENCODED_RATING' to the dataframe"
   ]
  },
  {
   "cell_type": "code",
   "execution_count": 22,
   "metadata": {},
   "outputs": [
    {
     "ename": "KeyError",
     "evalue": "'A+*-'",
     "output_type": "error",
     "traceback": [
      "\u001b[0;31m---------------------------------------------------------------------------\u001b[0m",
      "\u001b[0;31mKeyError\u001b[0m                                  Traceback (most recent call last)",
      "\u001b[0;32m~/opt/anaconda3/lib/python3.7/site-packages/pandas/core/indexes/base.py\u001b[0m in \u001b[0;36mget_loc\u001b[0;34m(self, key, method, tolerance)\u001b[0m\n\u001b[1;32m   2645\u001b[0m             \u001b[0;32mtry\u001b[0m\u001b[0;34m:\u001b[0m\u001b[0;34m\u001b[0m\u001b[0;34m\u001b[0m\u001b[0m\n\u001b[0;32m-> 2646\u001b[0;31m                 \u001b[0;32mreturn\u001b[0m \u001b[0mself\u001b[0m\u001b[0;34m.\u001b[0m\u001b[0m_engine\u001b[0m\u001b[0;34m.\u001b[0m\u001b[0mget_loc\u001b[0m\u001b[0;34m(\u001b[0m\u001b[0mkey\u001b[0m\u001b[0;34m)\u001b[0m\u001b[0;34m\u001b[0m\u001b[0;34m\u001b[0m\u001b[0m\n\u001b[0m\u001b[1;32m   2647\u001b[0m             \u001b[0;32mexcept\u001b[0m \u001b[0mKeyError\u001b[0m\u001b[0;34m:\u001b[0m\u001b[0;34m\u001b[0m\u001b[0;34m\u001b[0m\u001b[0m\n",
      "\u001b[0;32mpandas/_libs/index.pyx\u001b[0m in \u001b[0;36mpandas._libs.index.IndexEngine.get_loc\u001b[0;34m()\u001b[0m\n",
      "\u001b[0;32mpandas/_libs/index.pyx\u001b[0m in \u001b[0;36mpandas._libs.index.IndexEngine.get_loc\u001b[0;34m()\u001b[0m\n",
      "\u001b[0;32mpandas/_libs/hashtable_class_helper.pxi\u001b[0m in \u001b[0;36mpandas._libs.hashtable.PyObjectHashTable.get_item\u001b[0;34m()\u001b[0m\n",
      "\u001b[0;32mpandas/_libs/hashtable_class_helper.pxi\u001b[0m in \u001b[0;36mpandas._libs.hashtable.PyObjectHashTable.get_item\u001b[0;34m()\u001b[0m\n",
      "\u001b[0;31mKeyError\u001b[0m: 'A+*-'",
      "\nDuring handling of the above exception, another exception occurred:\n",
      "\u001b[0;31mKeyError\u001b[0m                                  Traceback (most recent call last)",
      "\u001b[0;32m<ipython-input-22-43d39fbcd7ff>\u001b[0m in \u001b[0;36m<module>\u001b[0;34m\u001b[0m\n\u001b[1;32m     15\u001b[0m         \u001b[0;32mreturn\u001b[0m\u001b[0;34m(\u001b[0m\u001b[0mtable_rating\u001b[0m\u001b[0;34m[\u001b[0m\u001b[0mtable_rating\u001b[0m\u001b[0;34m.\u001b[0m\u001b[0mcode\u001b[0m\u001b[0;34m==\u001b[0m\u001b[0mint\u001b[0m\u001b[0;34m(\u001b[0m\u001b[0mnp\u001b[0m\u001b[0;34m.\u001b[0m\u001b[0mround\u001b[0m\u001b[0;34m(\u001b[0m\u001b[0mnumber\u001b[0m\u001b[0;34m)\u001b[0m\u001b[0;34m)\u001b[0m\u001b[0;34m]\u001b[0m\u001b[0;34m.\u001b[0m\u001b[0mindex\u001b[0m\u001b[0;34m[\u001b[0m\u001b[0;36m0\u001b[0m\u001b[0;34m]\u001b[0m\u001b[0;34m)\u001b[0m\u001b[0;34m\u001b[0m\u001b[0;34m\u001b[0m\u001b[0m\n\u001b[1;32m     16\u001b[0m \u001b[0;34m\u001b[0m\u001b[0m\n\u001b[0;32m---> 17\u001b[0;31m \u001b[0mdf_data\u001b[0m\u001b[0;34m[\u001b[0m\u001b[0;34m'ENCODED_RATING'\u001b[0m\u001b[0;34m]\u001b[0m\u001b[0;34m=\u001b[0m\u001b[0mdf_data\u001b[0m\u001b[0;34m.\u001b[0m\u001b[0mRTG_SP_LT_LC_ISSUER_CREDIT\u001b[0m\u001b[0;34m.\u001b[0m\u001b[0mapply\u001b[0m\u001b[0;34m(\u001b[0m\u001b[0mf_encode_rating\u001b[0m\u001b[0;34m)\u001b[0m\u001b[0;34m\u001b[0m\u001b[0;34m\u001b[0m\u001b[0m\n\u001b[0m\u001b[1;32m     18\u001b[0m \u001b[0;34m\u001b[0m\u001b[0m\n\u001b[1;32m     19\u001b[0m \u001b[0mtable_rating\u001b[0m\u001b[0;34m.\u001b[0m\u001b[0mcode\u001b[0m\u001b[0;34m\u001b[0m\u001b[0;34m\u001b[0m\u001b[0m\n",
      "\u001b[0;32m~/opt/anaconda3/lib/python3.7/site-packages/pandas/core/series.py\u001b[0m in \u001b[0;36mapply\u001b[0;34m(self, func, convert_dtype, args, **kwds)\u001b[0m\n\u001b[1;32m   3846\u001b[0m             \u001b[0;32melse\u001b[0m\u001b[0;34m:\u001b[0m\u001b[0;34m\u001b[0m\u001b[0;34m\u001b[0m\u001b[0m\n\u001b[1;32m   3847\u001b[0m                 \u001b[0mvalues\u001b[0m \u001b[0;34m=\u001b[0m \u001b[0mself\u001b[0m\u001b[0;34m.\u001b[0m\u001b[0mastype\u001b[0m\u001b[0;34m(\u001b[0m\u001b[0mobject\u001b[0m\u001b[0;34m)\u001b[0m\u001b[0;34m.\u001b[0m\u001b[0mvalues\u001b[0m\u001b[0;34m\u001b[0m\u001b[0;34m\u001b[0m\u001b[0m\n\u001b[0;32m-> 3848\u001b[0;31m                 \u001b[0mmapped\u001b[0m \u001b[0;34m=\u001b[0m \u001b[0mlib\u001b[0m\u001b[0;34m.\u001b[0m\u001b[0mmap_infer\u001b[0m\u001b[0;34m(\u001b[0m\u001b[0mvalues\u001b[0m\u001b[0;34m,\u001b[0m \u001b[0mf\u001b[0m\u001b[0;34m,\u001b[0m \u001b[0mconvert\u001b[0m\u001b[0;34m=\u001b[0m\u001b[0mconvert_dtype\u001b[0m\u001b[0;34m)\u001b[0m\u001b[0;34m\u001b[0m\u001b[0;34m\u001b[0m\u001b[0m\n\u001b[0m\u001b[1;32m   3849\u001b[0m \u001b[0;34m\u001b[0m\u001b[0m\n\u001b[1;32m   3850\u001b[0m         \u001b[0;32mif\u001b[0m \u001b[0mlen\u001b[0m\u001b[0;34m(\u001b[0m\u001b[0mmapped\u001b[0m\u001b[0;34m)\u001b[0m \u001b[0;32mand\u001b[0m \u001b[0misinstance\u001b[0m\u001b[0;34m(\u001b[0m\u001b[0mmapped\u001b[0m\u001b[0;34m[\u001b[0m\u001b[0;36m0\u001b[0m\u001b[0;34m]\u001b[0m\u001b[0;34m,\u001b[0m \u001b[0mSeries\u001b[0m\u001b[0;34m)\u001b[0m\u001b[0;34m:\u001b[0m\u001b[0;34m\u001b[0m\u001b[0;34m\u001b[0m\u001b[0m\n",
      "\u001b[0;32mpandas/_libs/lib.pyx\u001b[0m in \u001b[0;36mpandas._libs.lib.map_infer\u001b[0;34m()\u001b[0m\n",
      "\u001b[0;32m<ipython-input-22-43d39fbcd7ff>\u001b[0m in \u001b[0;36mf_encode_rating\u001b[0;34m(rating)\u001b[0m\n\u001b[1;32m      6\u001b[0m         \u001b[0;32mreturn\u001b[0m\u001b[0;34m(\u001b[0m\u001b[0mnp\u001b[0m\u001b[0;34m.\u001b[0m\u001b[0mnan\u001b[0m\u001b[0;34m)\u001b[0m\u001b[0;34m\u001b[0m\u001b[0;34m\u001b[0m\u001b[0m\n\u001b[1;32m      7\u001b[0m     \u001b[0;32melse\u001b[0m\u001b[0;34m:\u001b[0m\u001b[0;34m\u001b[0m\u001b[0;34m\u001b[0m\u001b[0m\n\u001b[0;32m----> 8\u001b[0;31m         \u001b[0;32mreturn\u001b[0m\u001b[0;34m(\u001b[0m\u001b[0mfloat\u001b[0m\u001b[0;34m(\u001b[0m\u001b[0mtable_rating\u001b[0m\u001b[0;34m.\u001b[0m\u001b[0mloc\u001b[0m\u001b[0;34m[\u001b[0m\u001b[0mrating\u001b[0m\u001b[0;34m]\u001b[0m\u001b[0;34m.\u001b[0m\u001b[0mcode\u001b[0m\u001b[0;34m)\u001b[0m\u001b[0;34m)\u001b[0m\u001b[0;34m\u001b[0m\u001b[0;34m\u001b[0m\u001b[0m\n\u001b[0m\u001b[1;32m      9\u001b[0m \u001b[0;34m\u001b[0m\u001b[0m\n\u001b[1;32m     10\u001b[0m \u001b[0;32mdef\u001b[0m \u001b[0mf_decode_rating\u001b[0m\u001b[0;34m(\u001b[0m\u001b[0mnumber\u001b[0m\u001b[0;34m)\u001b[0m\u001b[0;34m:\u001b[0m\u001b[0;34m\u001b[0m\u001b[0;34m\u001b[0m\u001b[0m\n",
      "\u001b[0;32m~/opt/anaconda3/lib/python3.7/site-packages/pandas/core/indexing.py\u001b[0m in \u001b[0;36m__getitem__\u001b[0;34m(self, key)\u001b[0m\n\u001b[1;32m   1765\u001b[0m \u001b[0;34m\u001b[0m\u001b[0m\n\u001b[1;32m   1766\u001b[0m             \u001b[0mmaybe_callable\u001b[0m \u001b[0;34m=\u001b[0m \u001b[0mcom\u001b[0m\u001b[0;34m.\u001b[0m\u001b[0mapply_if_callable\u001b[0m\u001b[0;34m(\u001b[0m\u001b[0mkey\u001b[0m\u001b[0;34m,\u001b[0m \u001b[0mself\u001b[0m\u001b[0;34m.\u001b[0m\u001b[0mobj\u001b[0m\u001b[0;34m)\u001b[0m\u001b[0;34m\u001b[0m\u001b[0;34m\u001b[0m\u001b[0m\n\u001b[0;32m-> 1767\u001b[0;31m             \u001b[0;32mreturn\u001b[0m \u001b[0mself\u001b[0m\u001b[0;34m.\u001b[0m\u001b[0m_getitem_axis\u001b[0m\u001b[0;34m(\u001b[0m\u001b[0mmaybe_callable\u001b[0m\u001b[0;34m,\u001b[0m \u001b[0maxis\u001b[0m\u001b[0;34m=\u001b[0m\u001b[0maxis\u001b[0m\u001b[0;34m)\u001b[0m\u001b[0;34m\u001b[0m\u001b[0;34m\u001b[0m\u001b[0m\n\u001b[0m\u001b[1;32m   1768\u001b[0m \u001b[0;34m\u001b[0m\u001b[0m\n\u001b[1;32m   1769\u001b[0m     \u001b[0;32mdef\u001b[0m \u001b[0m_is_scalar_access\u001b[0m\u001b[0;34m(\u001b[0m\u001b[0mself\u001b[0m\u001b[0;34m,\u001b[0m \u001b[0mkey\u001b[0m\u001b[0;34m:\u001b[0m \u001b[0mTuple\u001b[0m\u001b[0;34m)\u001b[0m\u001b[0;34m:\u001b[0m\u001b[0;34m\u001b[0m\u001b[0;34m\u001b[0m\u001b[0m\n",
      "\u001b[0;32m~/opt/anaconda3/lib/python3.7/site-packages/pandas/core/indexing.py\u001b[0m in \u001b[0;36m_getitem_axis\u001b[0;34m(self, key, axis)\u001b[0m\n\u001b[1;32m   1962\u001b[0m         \u001b[0;31m# fall thru to straight lookup\u001b[0m\u001b[0;34m\u001b[0m\u001b[0;34m\u001b[0m\u001b[0;34m\u001b[0m\u001b[0m\n\u001b[1;32m   1963\u001b[0m         \u001b[0mself\u001b[0m\u001b[0;34m.\u001b[0m\u001b[0m_validate_key\u001b[0m\u001b[0;34m(\u001b[0m\u001b[0mkey\u001b[0m\u001b[0;34m,\u001b[0m \u001b[0maxis\u001b[0m\u001b[0;34m)\u001b[0m\u001b[0;34m\u001b[0m\u001b[0;34m\u001b[0m\u001b[0m\n\u001b[0;32m-> 1964\u001b[0;31m         \u001b[0;32mreturn\u001b[0m \u001b[0mself\u001b[0m\u001b[0;34m.\u001b[0m\u001b[0m_get_label\u001b[0m\u001b[0;34m(\u001b[0m\u001b[0mkey\u001b[0m\u001b[0;34m,\u001b[0m \u001b[0maxis\u001b[0m\u001b[0;34m=\u001b[0m\u001b[0maxis\u001b[0m\u001b[0;34m)\u001b[0m\u001b[0;34m\u001b[0m\u001b[0;34m\u001b[0m\u001b[0m\n\u001b[0m\u001b[1;32m   1965\u001b[0m \u001b[0;34m\u001b[0m\u001b[0m\n\u001b[1;32m   1966\u001b[0m \u001b[0;34m\u001b[0m\u001b[0m\n",
      "\u001b[0;32m~/opt/anaconda3/lib/python3.7/site-packages/pandas/core/indexing.py\u001b[0m in \u001b[0;36m_get_label\u001b[0;34m(self, label, axis)\u001b[0m\n\u001b[1;32m    622\u001b[0m             \u001b[0;32mraise\u001b[0m \u001b[0mIndexingError\u001b[0m\u001b[0;34m(\u001b[0m\u001b[0;34m\"no slices here, handle elsewhere\"\u001b[0m\u001b[0;34m)\u001b[0m\u001b[0;34m\u001b[0m\u001b[0;34m\u001b[0m\u001b[0m\n\u001b[1;32m    623\u001b[0m \u001b[0;34m\u001b[0m\u001b[0m\n\u001b[0;32m--> 624\u001b[0;31m         \u001b[0;32mreturn\u001b[0m \u001b[0mself\u001b[0m\u001b[0;34m.\u001b[0m\u001b[0mobj\u001b[0m\u001b[0;34m.\u001b[0m\u001b[0m_xs\u001b[0m\u001b[0;34m(\u001b[0m\u001b[0mlabel\u001b[0m\u001b[0;34m,\u001b[0m \u001b[0maxis\u001b[0m\u001b[0;34m=\u001b[0m\u001b[0maxis\u001b[0m\u001b[0;34m)\u001b[0m\u001b[0;34m\u001b[0m\u001b[0;34m\u001b[0m\u001b[0m\n\u001b[0m\u001b[1;32m    625\u001b[0m \u001b[0;34m\u001b[0m\u001b[0m\n\u001b[1;32m    626\u001b[0m     \u001b[0;32mdef\u001b[0m \u001b[0m_get_loc\u001b[0m\u001b[0;34m(\u001b[0m\u001b[0mself\u001b[0m\u001b[0;34m,\u001b[0m \u001b[0mkey\u001b[0m\u001b[0;34m:\u001b[0m \u001b[0mint\u001b[0m\u001b[0;34m,\u001b[0m \u001b[0maxis\u001b[0m\u001b[0;34m:\u001b[0m \u001b[0mint\u001b[0m\u001b[0;34m)\u001b[0m\u001b[0;34m:\u001b[0m\u001b[0;34m\u001b[0m\u001b[0;34m\u001b[0m\u001b[0m\n",
      "\u001b[0;32m~/opt/anaconda3/lib/python3.7/site-packages/pandas/core/generic.py\u001b[0m in \u001b[0;36mxs\u001b[0;34m(self, key, axis, level, drop_level)\u001b[0m\n\u001b[1;32m   3535\u001b[0m             \u001b[0mloc\u001b[0m\u001b[0;34m,\u001b[0m \u001b[0mnew_index\u001b[0m \u001b[0;34m=\u001b[0m \u001b[0mself\u001b[0m\u001b[0;34m.\u001b[0m\u001b[0mindex\u001b[0m\u001b[0;34m.\u001b[0m\u001b[0mget_loc_level\u001b[0m\u001b[0;34m(\u001b[0m\u001b[0mkey\u001b[0m\u001b[0;34m,\u001b[0m \u001b[0mdrop_level\u001b[0m\u001b[0;34m=\u001b[0m\u001b[0mdrop_level\u001b[0m\u001b[0;34m)\u001b[0m\u001b[0;34m\u001b[0m\u001b[0;34m\u001b[0m\u001b[0m\n\u001b[1;32m   3536\u001b[0m         \u001b[0;32melse\u001b[0m\u001b[0;34m:\u001b[0m\u001b[0;34m\u001b[0m\u001b[0;34m\u001b[0m\u001b[0m\n\u001b[0;32m-> 3537\u001b[0;31m             \u001b[0mloc\u001b[0m \u001b[0;34m=\u001b[0m \u001b[0mself\u001b[0m\u001b[0;34m.\u001b[0m\u001b[0mindex\u001b[0m\u001b[0;34m.\u001b[0m\u001b[0mget_loc\u001b[0m\u001b[0;34m(\u001b[0m\u001b[0mkey\u001b[0m\u001b[0;34m)\u001b[0m\u001b[0;34m\u001b[0m\u001b[0;34m\u001b[0m\u001b[0m\n\u001b[0m\u001b[1;32m   3538\u001b[0m \u001b[0;34m\u001b[0m\u001b[0m\n\u001b[1;32m   3539\u001b[0m             \u001b[0;32mif\u001b[0m \u001b[0misinstance\u001b[0m\u001b[0;34m(\u001b[0m\u001b[0mloc\u001b[0m\u001b[0;34m,\u001b[0m \u001b[0mnp\u001b[0m\u001b[0;34m.\u001b[0m\u001b[0mndarray\u001b[0m\u001b[0;34m)\u001b[0m\u001b[0;34m:\u001b[0m\u001b[0;34m\u001b[0m\u001b[0;34m\u001b[0m\u001b[0m\n",
      "\u001b[0;32m~/opt/anaconda3/lib/python3.7/site-packages/pandas/core/indexes/base.py\u001b[0m in \u001b[0;36mget_loc\u001b[0;34m(self, key, method, tolerance)\u001b[0m\n\u001b[1;32m   2646\u001b[0m                 \u001b[0;32mreturn\u001b[0m \u001b[0mself\u001b[0m\u001b[0;34m.\u001b[0m\u001b[0m_engine\u001b[0m\u001b[0;34m.\u001b[0m\u001b[0mget_loc\u001b[0m\u001b[0;34m(\u001b[0m\u001b[0mkey\u001b[0m\u001b[0;34m)\u001b[0m\u001b[0;34m\u001b[0m\u001b[0;34m\u001b[0m\u001b[0m\n\u001b[1;32m   2647\u001b[0m             \u001b[0;32mexcept\u001b[0m \u001b[0mKeyError\u001b[0m\u001b[0;34m:\u001b[0m\u001b[0;34m\u001b[0m\u001b[0;34m\u001b[0m\u001b[0m\n\u001b[0;32m-> 2648\u001b[0;31m                 \u001b[0;32mreturn\u001b[0m \u001b[0mself\u001b[0m\u001b[0;34m.\u001b[0m\u001b[0m_engine\u001b[0m\u001b[0;34m.\u001b[0m\u001b[0mget_loc\u001b[0m\u001b[0;34m(\u001b[0m\u001b[0mself\u001b[0m\u001b[0;34m.\u001b[0m\u001b[0m_maybe_cast_indexer\u001b[0m\u001b[0;34m(\u001b[0m\u001b[0mkey\u001b[0m\u001b[0;34m)\u001b[0m\u001b[0;34m)\u001b[0m\u001b[0;34m\u001b[0m\u001b[0;34m\u001b[0m\u001b[0m\n\u001b[0m\u001b[1;32m   2649\u001b[0m         \u001b[0mindexer\u001b[0m \u001b[0;34m=\u001b[0m \u001b[0mself\u001b[0m\u001b[0;34m.\u001b[0m\u001b[0mget_indexer\u001b[0m\u001b[0;34m(\u001b[0m\u001b[0;34m[\u001b[0m\u001b[0mkey\u001b[0m\u001b[0;34m]\u001b[0m\u001b[0;34m,\u001b[0m \u001b[0mmethod\u001b[0m\u001b[0;34m=\u001b[0m\u001b[0mmethod\u001b[0m\u001b[0;34m,\u001b[0m \u001b[0mtolerance\u001b[0m\u001b[0;34m=\u001b[0m\u001b[0mtolerance\u001b[0m\u001b[0;34m)\u001b[0m\u001b[0;34m\u001b[0m\u001b[0;34m\u001b[0m\u001b[0m\n\u001b[1;32m   2650\u001b[0m         \u001b[0;32mif\u001b[0m \u001b[0mindexer\u001b[0m\u001b[0;34m.\u001b[0m\u001b[0mndim\u001b[0m \u001b[0;34m>\u001b[0m \u001b[0;36m1\u001b[0m \u001b[0;32mor\u001b[0m \u001b[0mindexer\u001b[0m\u001b[0;34m.\u001b[0m\u001b[0msize\u001b[0m \u001b[0;34m>\u001b[0m \u001b[0;36m1\u001b[0m\u001b[0;34m:\u001b[0m\u001b[0;34m\u001b[0m\u001b[0;34m\u001b[0m\u001b[0m\n",
      "\u001b[0;32mpandas/_libs/index.pyx\u001b[0m in \u001b[0;36mpandas._libs.index.IndexEngine.get_loc\u001b[0;34m()\u001b[0m\n",
      "\u001b[0;32mpandas/_libs/index.pyx\u001b[0m in \u001b[0;36mpandas._libs.index.IndexEngine.get_loc\u001b[0;34m()\u001b[0m\n",
      "\u001b[0;32mpandas/_libs/hashtable_class_helper.pxi\u001b[0m in \u001b[0;36mpandas._libs.hashtable.PyObjectHashTable.get_item\u001b[0;34m()\u001b[0m\n",
      "\u001b[0;32mpandas/_libs/hashtable_class_helper.pxi\u001b[0m in \u001b[0;36mpandas._libs.hashtable.PyObjectHashTable.get_item\u001b[0;34m()\u001b[0m\n",
      "\u001b[0;31mKeyError\u001b[0m: 'A+*-'"
     ]
    }
   ],
   "source": [
    "#2- Rating encoding\n",
    "table_rating = pd.read_csv('code_sp.csv',sep=';', index_col=0)\n",
    "\n",
    "def f_encode_rating(rating):\n",
    "    if pd.isnull(rating):\n",
    "        return(np.nan)\n",
    "    else:\n",
    "        return(float(table_rating.loc[rating].code))\n",
    "\n",
    "def f_decode_rating(number):\n",
    "    number= min(max(number,0), 76)\n",
    "    if pd.isnull(number):\n",
    "        return(np.nan)\n",
    "    else:\n",
    "        return(table_rating[table_rating.code==int(np.round(number))].index[0])\n",
    "\n",
    "df_data['ENCODED_RATING']=df_data.RTG_SP_LT_LC_ISSUER_CREDIT.apply(f_encode_rating)\n",
    "\n",
    "table_rating.code"
   ]
  },
  {
   "cell_type": "markdown",
   "metadata": {},
   "source": [
    "### 3- Evolution of rating\n",
    "\n",
    "The goal is to get the median time for rating to change for a company"
   ]
  },
  {
   "cell_type": "markdown",
   "metadata": {},
   "source": [
    "### 4- Correlation of features to rating\n",
    "\n",
    "For a specif date, graphic of correlation between features to rating"
   ]
  },
  {
   "cell_type": "code",
   "execution_count": null,
   "metadata": {},
   "outputs": [],
   "source": [
    "#numerical_features= list(df_data.columns[df_data.dtypes==np.float64]) \n",
    "corr_mat=np.abs(df_data[df_data.select_dtypes(np.float64).columns].corr(method='spearman'))\n",
    "corr_mat.ENCODED_RATING.sort_values(ascending=False)"
   ]
  },
  {
   "cell_type": "markdown",
   "metadata": {},
   "source": [
    "## IV - Preporcessing\n",
    " "
   ]
  },
  {
   "cell_type": "markdown",
   "metadata": {},
   "source": [
    "Feature engineering\n",
    "add ratios\n",
    "add specific categories"
   ]
  },
  {
   "cell_type": "code",
   "execution_count": null,
   "metadata": {},
   "outputs": [],
   "source": [
    "def creating_ratio:\n",
    "    df_data['gross margin']=(df_data['SALES_REV_TURN']-df_data['ARD_COST_OF_GOODS_SOLD'])/df_data['SALES_REV_TURN']\n",
    "    df_data['px sales']=df_data['CUR_MKT_CAP']/df_data['SALES_REV_TURN']\n",
    "    df_data['book val per sh']=df_data['TOT_COMMON_EQY']/df_data['BS_SH_OUT']\n",
    "    df_data['com eqy to tot asset']=df_data['TOT_COMMON_EQY']/df_data\n",
    "    df_data['current ev to 12m sales']=(df_data['CUR_MKT_CAP']-(df_data['BS_ST_BORROW']+df_data['BS_LT_BORROW'])+df_data['BS_CASH_NEAR_CASH_ITEM'])\n",
    "    df_data['current ev to 12m ebit']=(df_data['CUR_MKT_CAP']-(df_data['BS_ST_BORROW']+df_data['BS_LT_BORROW'])+df_data['BS_CASH_NEAR_CASH_ITEM'])\n",
    "    df_data['current ev to 12m ebitda']=(df_data['CUR_MKT_CAP']-(df_data['BS_ST_BORROW']+df_data['BS_LT_BORROW'])+df_data['BS_CASH_NEAR_CASH_ITEM'])\n",
    "    df_data['oper inc per sh']=df_data['IS_OPER_INC']\n",
    "    df_data['oper margin']=df_data['IS_OPER_INC']\n",
    "    df_data['pe ratio']=df_data['CUR_MKT_CAP']/df_data['TOTAL_EQUITY']\n",
    "    df_data['px to book']=df_data['PX_LAST']\n",
    "    df_data['px to cash flow']=df_data['CUR_MKT_CAP']\n",
    "    df_data['px to free cash flow']=df_data['CUR_MKT_CAP']\n",
    "    df_data['px to sales']=df_data['CUR_MKT_CAP']\n",
    "    df_data['px to tang bv per sh']=df_data['CUR_MKT_CAP']\n",
    "    df_data['return com eqy']=df_data['NET_INCOME']\n",
    "    df_data['return on asset']=df_data['NET_INCOME']\n",
    "    df_data['revenue per sh']=df_data['SALES_REV_RETURN']\n",
    "    df_data['roc wacc']=df_data['WACC_NOPAT']\n",
    "    df_data['tot debt to tot eqy']=df_data['BS_ST_BORROW']+df_data['BS_LT_BORROW']\n",
    "    df_data['cfo to sales']=df_data['CF_CASH_FROM_OPER']\n",
    "    df_data['free cash flow margin']=df_data['CF_CASH_FROM_OPER']\n",
    "    df_data['free cash flow yield']=df_data['CF_CASH_FROM_OPER']\n",
    "    df_data['working capital to tot assets']=df_data['WORKING_CAPITAL']\n",
    "    df_data['total liabilities to tot assets']=df_data['BS_TOTAL_LIABILITIES']\n",
    "    df_data['net profit to tot assets']=df_data['NET_INCOME']\n",
    "    df_data['equity to total assets']=df_data['TOTAL_EQUITY']\n",
    "    df_data['net profit to equity']=df_data['NET_INCOME']\n",
    "    df_data['quick ratio']=(df_data['BS_CASH_NEAR_CASH_ITEM']+df_data['BS_MKT_SEC_OTHER_ST_INVEST']+df_data['BS_ACCT_NOT_RCV'])\n",
    "    df_data['net profit margin']=df_data['NET_INCOME']\n",
    "    df_data['working capital to sales']=df_data['WORKING_CAPITAL']\n",
    "    df_data['gross profitability']=df_data['ARD_COST_OF_GOODS_SOLD']\n",
    "    df_data['current assets to total assets']=df_data['BS_CUR_ASSET_REPORT']\n",
    "    df_data['ebit to total assets']=df_data['EBIT']\n",
    "    df_data['ebit to sales']=df_data['EBIT']\n",
    "    #df_data['cash ratio']=df_data['BS_CUR_ASSET_REPORT']\n",
    "    #df_data['sales to long term assets']=df_data['']\n",
    "    #df_data['long term debt to equity']=df_data['']\n",
    "    #df_data['cash to tot asset']=df_data['']\n",
    "    #df_data['current ratio']=df_data['']\n",
    "    #df_data['ebitda to net interest']=df_data['']\n",
    "    #df_data['fcf to total debt']=df_data['']\n",
    "    #df_data['lt debt to total debt']=df_data['']\n",
    "    #df_data['sales to total assets']=df_data['']\n",
    "    #df_data['total debt to ebitda']=df_data['']\n",
    "    #df_data['total debt to total assets']=df_data['']\n",
    "    #df_data['net debt to ebitda']=df_data['']\n",
    "    #df_data['net debt to total assets']=df_data['']\n",
    "    #df_data['net debt to total equity']=df_data['']\n",
    "        \n",
    "    "
   ]
  },
  {
   "cell_type": "markdown",
   "metadata": {},
   "source": [
    "## V - Baseline Model"
   ]
  }
 ],
 "metadata": {
  "kernelspec": {
   "display_name": "Python 3",
   "language": "python",
   "name": "python3"
  },
  "language_info": {
   "codemirror_mode": {
    "name": "ipython",
    "version": 3
   },
   "file_extension": ".py",
   "mimetype": "text/x-python",
   "name": "python",
   "nbconvert_exporter": "python",
   "pygments_lexer": "ipython3",
   "version": "3.7.6"
  }
 },
 "nbformat": 4,
 "nbformat_minor": 4
}
